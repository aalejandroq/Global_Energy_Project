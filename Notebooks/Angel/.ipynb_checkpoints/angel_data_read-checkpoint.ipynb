{
 "cells": [
  {
   "cell_type": "code",
   "execution_count": 1,
   "metadata": {},
   "outputs": [],
   "source": [
    "import pandas as pd\n",
    "# import matplotlib.pyplot as plt\n",
    "# from pandas import ExcelWriter\n",
    "# from pandas import ExcelFile\n",
    "import sqlalchemy\n",
    "import sqlite3 as sq"
   ]
  },
  {
   "cell_type": "code",
   "execution_count": 2,
   "metadata": {},
   "outputs": [],
   "source": [
    "user = 'cvkuzmyutihdti'\n",
    "password = 'ccb658b9dbaa9f02508c213880d12db3c0025e92aea837baa7f5f11f60a073e0'\n",
    "port = '5432'\n",
    "database = 'd7drrt22cf3tcf'\n",
    "host = 'ec2-23-21-91-183.compute-1.amazonaws.com'\n",
    "\n",
    "url = 'postgres://'+user+':'+password+'@'+host+':'+port+'/'+database\n",
    "\n",
    "engine = sqlalchemy.create_engine(url) # connect to server\n",
    "con = engine.connect()"
   ]
  },
  {
   "cell_type": "code",
   "execution_count": null,
   "metadata": {},
   "outputs": [],
   "source": []
  },
  {
   "cell_type": "code",
   "execution_count": null,
   "metadata": {},
   "outputs": [],
   "source": []
  },
  {
   "cell_type": "code",
   "execution_count": 3,
   "metadata": {},
   "outputs": [],
   "source": [
    "\n",
    "file = 'CO2_emissions_from_fuel_combus.csv'\n"
   ]
  },
  {
   "cell_type": "code",
   "execution_count": null,
   "metadata": {},
   "outputs": [],
   "source": []
  },
  {
   "cell_type": "code",
   "execution_count": null,
   "metadata": {},
   "outputs": [],
   "source": []
  },
  {
   "cell_type": "code",
   "execution_count": 4,
   "metadata": {},
   "outputs": [
    {
     "data": {
      "text/html": [
       "<div>\n",
       "<style scoped>\n",
       "    .dataframe tbody tr th:only-of-type {\n",
       "        vertical-align: middle;\n",
       "    }\n",
       "\n",
       "    .dataframe tbody tr th {\n",
       "        vertical-align: top;\n",
       "    }\n",
       "\n",
       "    .dataframe thead th {\n",
       "        text-align: right;\n",
       "    }\n",
       "</style>\n",
       "<table border=\"1\" class=\"dataframe\">\n",
       "  <thead>\n",
       "    <tr style=\"text-align: right;\">\n",
       "      <th></th>\n",
       "      <th>Year</th>\n",
       "      <th>World</th>\n",
       "      <th>OECD</th>\n",
       "      <th>G7</th>\n",
       "      <th>BRICS</th>\n",
       "      <th>Europe</th>\n",
       "      <th>European Union</th>\n",
       "      <th>Belgium</th>\n",
       "      <th>Czech Rep.</th>\n",
       "      <th>France</th>\n",
       "      <th>...</th>\n",
       "      <th>Africa</th>\n",
       "      <th>Algeria</th>\n",
       "      <th>Egypt</th>\n",
       "      <th>Nigeria</th>\n",
       "      <th>South Africa</th>\n",
       "      <th>Middle-East</th>\n",
       "      <th>Iran</th>\n",
       "      <th>Kuwait</th>\n",
       "      <th>Saudi Arabia</th>\n",
       "      <th>United Arab Emirates</th>\n",
       "    </tr>\n",
       "  </thead>\n",
       "  <tbody>\n",
       "    <tr>\n",
       "      <th>1</th>\n",
       "      <td>1990</td>\n",
       "      <td>20277.7</td>\n",
       "      <td>11174.9</td>\n",
       "      <td>8575.88</td>\n",
       "      <td>5411.2</td>\n",
       "      <td>4417.64</td>\n",
       "      <td>4115.02</td>\n",
       "      <td>105.89</td>\n",
       "      <td>151.25</td>\n",
       "      <td>357.02</td>\n",
       "      <td>...</td>\n",
       "      <td>540.3</td>\n",
       "      <td>52.98</td>\n",
       "      <td>78.5</td>\n",
       "      <td>28.32</td>\n",
       "      <td>253.94</td>\n",
       "      <td>589.22</td>\n",
       "      <td>181.22</td>\n",
       "      <td>28.07</td>\n",
       "      <td>155.69</td>\n",
       "      <td>52.15</td>\n",
       "    </tr>\n",
       "    <tr>\n",
       "      <th>2</th>\n",
       "      <td>1991</td>\n",
       "      <td>20428.9</td>\n",
       "      <td>11205.8</td>\n",
       "      <td>8549.52</td>\n",
       "      <td>5573.58</td>\n",
       "      <td>4392.06</td>\n",
       "      <td>4099.76</td>\n",
       "      <td>110.43</td>\n",
       "      <td>139.65</td>\n",
       "      <td>383.18</td>\n",
       "      <td>...</td>\n",
       "      <td>546.73</td>\n",
       "      <td>57.15</td>\n",
       "      <td>77.18</td>\n",
       "      <td>33.59</td>\n",
       "      <td>250</td>\n",
       "      <td>604.04</td>\n",
       "      <td>200.79</td>\n",
       "      <td>7.82</td>\n",
       "      <td>162.06</td>\n",
       "      <td>59.46</td>\n",
       "    </tr>\n",
       "    <tr>\n",
       "      <th>3</th>\n",
       "      <td>1992</td>\n",
       "      <td>20389.2</td>\n",
       "      <td>11267.8</td>\n",
       "      <td>8599.21</td>\n",
       "      <td>5544.03</td>\n",
       "      <td>4270.49</td>\n",
       "      <td>3981.31</td>\n",
       "      <td>109.48</td>\n",
       "      <td>134.2</td>\n",
       "      <td>372.34</td>\n",
       "      <td>...</td>\n",
       "      <td>555.68</td>\n",
       "      <td>57.26</td>\n",
       "      <td>80.06</td>\n",
       "      <td>40.14</td>\n",
       "      <td>246.78</td>\n",
       "      <td>676.17</td>\n",
       "      <td>218.15</td>\n",
       "      <td>22.5</td>\n",
       "      <td>176.78</td>\n",
       "      <td>56.91</td>\n",
       "    </tr>\n",
       "    <tr>\n",
       "      <th>4</th>\n",
       "      <td>1993</td>\n",
       "      <td>20483.4</td>\n",
       "      <td>11357.1</td>\n",
       "      <td>8665.63</td>\n",
       "      <td>5584.72</td>\n",
       "      <td>4181.88</td>\n",
       "      <td>3896.36</td>\n",
       "      <td>108.16</td>\n",
       "      <td>132.72</td>\n",
       "      <td>354.24</td>\n",
       "      <td>...</td>\n",
       "      <td>566.1</td>\n",
       "      <td>59.2</td>\n",
       "      <td>81.83</td>\n",
       "      <td>36.64</td>\n",
       "      <td>255.05</td>\n",
       "      <td>726.36</td>\n",
       "      <td>219.61</td>\n",
       "      <td>28.8</td>\n",
       "      <td>187.36</td>\n",
       "      <td>59.99</td>\n",
       "    </tr>\n",
       "    <tr>\n",
       "      <th>5</th>\n",
       "      <td>1994</td>\n",
       "      <td>20569.2</td>\n",
       "      <td>11540.2</td>\n",
       "      <td>8776.88</td>\n",
       "      <td>5532</td>\n",
       "      <td>4135.39</td>\n",
       "      <td>3863.83</td>\n",
       "      <td>113.65</td>\n",
       "      <td>125.87</td>\n",
       "      <td>346.94</td>\n",
       "      <td>...</td>\n",
       "      <td>565.36</td>\n",
       "      <td>56.35</td>\n",
       "      <td>77.46</td>\n",
       "      <td>30.85</td>\n",
       "      <td>260.13</td>\n",
       "      <td>796.09</td>\n",
       "      <td>248.77</td>\n",
       "      <td>33.37</td>\n",
       "      <td>199.49</td>\n",
       "      <td>65.89</td>\n",
       "    </tr>\n",
       "  </tbody>\n",
       "</table>\n",
       "<p>5 rows × 59 columns</p>\n",
       "</div>"
      ],
      "text/plain": [
       "0  Year    World     OECD       G7    BRICS   Europe European Union Belgium  \\\n",
       "1  1990  20277.7  11174.9  8575.88   5411.2  4417.64        4115.02  105.89   \n",
       "2  1991  20428.9  11205.8  8549.52  5573.58  4392.06        4099.76  110.43   \n",
       "3  1992  20389.2  11267.8  8599.21  5544.03  4270.49        3981.31  109.48   \n",
       "4  1993  20483.4  11357.1  8665.63  5584.72  4181.88        3896.36  108.16   \n",
       "5  1994  20569.2  11540.2  8776.88     5532  4135.39        3863.83  113.65   \n",
       "\n",
       "0 Czech Rep.  France  ...  Africa Algeria  Egypt Nigeria South Africa  \\\n",
       "1     151.25  357.02  ...   540.3   52.98   78.5   28.32       253.94   \n",
       "2     139.65  383.18  ...  546.73   57.15  77.18   33.59          250   \n",
       "3      134.2  372.34  ...  555.68   57.26  80.06   40.14       246.78   \n",
       "4     132.72  354.24  ...   566.1    59.2  81.83   36.64       255.05   \n",
       "5     125.87  346.94  ...  565.36   56.35  77.46   30.85       260.13   \n",
       "\n",
       "0 Middle-East    Iran Kuwait Saudi Arabia United Arab Emirates  \n",
       "1      589.22  181.22  28.07       155.69                52.15  \n",
       "2      604.04  200.79   7.82       162.06                59.46  \n",
       "3      676.17  218.15   22.5       176.78                56.91  \n",
       "4      726.36  219.61   28.8       187.36                59.99  \n",
       "5      796.09  248.77  33.37       199.49                65.89  \n",
       "\n",
       "[5 rows x 59 columns]"
      ]
     },
     "execution_count": 4,
     "metadata": {},
     "output_type": "execute_result"
    }
   ],
   "source": [
    "df = pd.read_csv(file)\n",
    "df = df.transpose()\n",
    "df = df.reset_index()\n",
    "df.columns = df.iloc[0]\n",
    "df = df.reindex(df.index.drop(0))\n",
    "df = df.rename(columns = {'Unnamed: 0':'Year'})\n",
    "df.head()\n"
   ]
  },
  {
   "cell_type": "code",
   "execution_count": 5,
   "metadata": {},
   "outputs": [],
   "source": [
    "df.to_sql(name=\"emissions\", con = engine, if_exists = 'replace', index=False)"
   ]
  },
  {
   "cell_type": "code",
   "execution_count": null,
   "metadata": {},
   "outputs": [],
   "source": []
  },
  {
   "cell_type": "code",
   "execution_count": null,
   "metadata": {},
   "outputs": [],
   "source": []
  },
  {
   "cell_type": "code",
   "execution_count": null,
   "metadata": {},
   "outputs": [],
   "source": []
  },
  {
   "cell_type": "code",
   "execution_count": null,
   "metadata": {},
   "outputs": [],
   "source": []
  },
  {
   "cell_type": "code",
   "execution_count": null,
   "metadata": {},
   "outputs": [],
   "source": []
  },
  {
   "cell_type": "code",
   "execution_count": null,
   "metadata": {},
   "outputs": [],
   "source": [
    "df.head()"
   ]
  },
  {
   "cell_type": "code",
   "execution_count": null,
   "metadata": {},
   "outputs": [],
   "source": [
    "df = df.transpose()"
   ]
  },
  {
   "cell_type": "code",
   "execution_count": null,
   "metadata": {},
   "outputs": [],
   "source": [
    "df = df.reset_index()"
   ]
  },
  {
   "cell_type": "code",
   "execution_count": null,
   "metadata": {},
   "outputs": [],
   "source": [
    "df.head()"
   ]
  },
  {
   "cell_type": "code",
   "execution_count": null,
   "metadata": {},
   "outputs": [],
   "source": [
    "df.columns = df.iloc[0]"
   ]
  },
  {
   "cell_type": "code",
   "execution_count": null,
   "metadata": {},
   "outputs": [],
   "source": [
    "df.head()"
   ]
  },
  {
   "cell_type": "code",
   "execution_count": null,
   "metadata": {},
   "outputs": [],
   "source": [
    "df = df.reindex(df.index.drop(0))"
   ]
  },
  {
   "cell_type": "code",
   "execution_count": null,
   "metadata": {},
   "outputs": [],
   "source": [
    "df.head()"
   ]
  },
  {
   "cell_type": "code",
   "execution_count": null,
   "metadata": {},
   "outputs": [],
   "source": [
    "df = df.rename(columns = {'Unnamed: 0':'Year'})"
   ]
  },
  {
   "cell_type": "code",
   "execution_count": null,
   "metadata": {},
   "outputs": [],
   "source": [
    "test.head()"
   ]
  },
  {
   "cell_type": "code",
   "execution_count": null,
   "metadata": {},
   "outputs": [],
   "source": [
    "a"
   ]
  },
  {
   "cell_type": "code",
   "execution_count": null,
   "metadata": {},
   "outputs": [],
   "source": []
  },
  {
   "cell_type": "code",
   "execution_count": null,
   "metadata": {},
   "outputs": [],
   "source": []
  },
  {
   "cell_type": "code",
   "execution_count": null,
   "metadata": {},
   "outputs": [],
   "source": [
    "df.to_sql(name=\"emissions\", con = engine, if_exists = 'replace', index=False)"
   ]
  },
  {
   "cell_type": "code",
   "execution_count": null,
   "metadata": {},
   "outputs": [],
   "source": []
  },
  {
   "cell_type": "code",
   "execution_count": null,
   "metadata": {},
   "outputs": [],
   "source": []
  },
  {
   "cell_type": "code",
   "execution_count": null,
   "metadata": {},
   "outputs": [],
   "source": []
  },
  {
   "cell_type": "code",
   "execution_count": null,
   "metadata": {},
   "outputs": [],
   "source": []
  },
  {
   "cell_type": "code",
   "execution_count": null,
   "metadata": {},
   "outputs": [],
   "source": []
  },
  {
   "cell_type": "code",
   "execution_count": null,
   "metadata": {},
   "outputs": [],
   "source": []
  },
  {
   "cell_type": "code",
   "execution_count": null,
   "metadata": {},
   "outputs": [],
   "source": []
  },
  {
   "cell_type": "code",
   "execution_count": null,
   "metadata": {},
   "outputs": [],
   "source": [
    "consumption_df = pd.read_excel(file, sheet_name='T34 Wine consumption vol', skiprows=0) # 1st row is sheet title, 2nd is column header"
   ]
  },
  {
   "cell_type": "code",
   "execution_count": null,
   "metadata": {
    "scrolled": true
   },
   "outputs": [],
   "source": [
    "consumption_df.head()"
   ]
  },
  {
   "cell_type": "code",
   "execution_count": null,
   "metadata": {},
   "outputs": [],
   "source": [
    "test = consumption_df.set_index('year')"
   ]
  },
  {
   "cell_type": "code",
   "execution_count": null,
   "metadata": {},
   "outputs": [],
   "source": [
    "test = consumption_df.transpose()"
   ]
  },
  {
   "cell_type": "code",
   "execution_count": null,
   "metadata": {},
   "outputs": [],
   "source": [
    "test.head()"
   ]
  },
  {
   "cell_type": "code",
   "execution_count": null,
   "metadata": {},
   "outputs": [],
   "source": [
    "consumption_df = pd.read_excel(file, sheet_name='T34 Wine consumption vol', skiprows=0) # 1st row is sheet title, 2nd is column header\n",
    "\n",
    "production_df = pd.read_excel(file, sheet_name='T6 Wine production', skiprows=0) # 1st row is sheet title, 2nd is column header\n",
    "\n",
    "population_df = pd.read_excel(file, sheet_name='T58 Population', skiprows=0) # 1st row is sheet title, 2nd is column header\n"
   ]
  },
  {
   "cell_type": "code",
   "execution_count": null,
   "metadata": {},
   "outputs": [],
   "source": [
    "consumption_df.head()"
   ]
  },
  {
   "cell_type": "code",
   "execution_count": null,
   "metadata": {},
   "outputs": [],
   "source": [
    "production_df.head()"
   ]
  },
  {
   "cell_type": "code",
   "execution_count": null,
   "metadata": {},
   "outputs": [],
   "source": [
    "population_df.head()"
   ]
  },
  {
   "cell_type": "code",
   "execution_count": null,
   "metadata": {},
   "outputs": [],
   "source": [
    "user = 'cvkuzmyutihdti'\n",
    "password = 'ccb658b9dbaa9f02508c213880d12db3c0025e92aea837baa7f5f11f60a073e0'\n",
    "port = '5432'\n",
    "database = 'd7drrt22cf3tcf'\n",
    "host = 'ec2-23-21-91-183.compute-1.amazonaws.com'\n",
    "\n",
    "url = 'postgres://'+user+':'+password+'@'+host+':'+port+'/'+database\n",
    "\n",
    "engine = sqlalchemy.create_engine(url) # connect to server\n",
    "con = engine.connect()"
   ]
  },
  {
   "cell_type": "code",
   "execution_count": null,
   "metadata": {},
   "outputs": [],
   "source": [
    "consumption_df.to_sql(name=\"consumption_db\", con = engine, if_exists = 'replace', index=False)\n",
    "production_df.to_sql(name=\"production_db\", con = engine, if_exists = 'replace', index=False)\n",
    "population_df.to_sql(name=\"population_db\", con = engine, if_exists = 'replace', index=False)"
   ]
  },
  {
   "cell_type": "code",
   "execution_count": null,
   "metadata": {},
   "outputs": [],
   "source": []
  },
  {
   "cell_type": "code",
   "execution_count": null,
   "metadata": {},
   "outputs": [],
   "source": []
  },
  {
   "cell_type": "code",
   "execution_count": null,
   "metadata": {},
   "outputs": [],
   "source": [
    "## create df from wine reviews file\n",
    "winemag_df = pd.read_csv('winemag-data-short.csv')\n",
    "winemag_df.head()"
   ]
  },
  {
   "cell_type": "code",
   "execution_count": null,
   "metadata": {},
   "outputs": [],
   "source": []
  },
  {
   "cell_type": "code",
   "execution_count": null,
   "metadata": {},
   "outputs": [],
   "source": [
    "# Create table with wine reviews info in heroku postgres\n",
    "winemag_df.to_sql(name=\"winemag_db\", con = engine, if_exists = 'replace', index=False)"
   ]
  },
  {
   "cell_type": "code",
   "execution_count": null,
   "metadata": {},
   "outputs": [],
   "source": []
  },
  {
   "cell_type": "code",
   "execution_count": null,
   "metadata": {},
   "outputs": [],
   "source": []
  },
  {
   "cell_type": "code",
   "execution_count": null,
   "metadata": {},
   "outputs": [],
   "source": []
  },
  {
   "cell_type": "code",
   "execution_count": null,
   "metadata": {},
   "outputs": [],
   "source": []
  },
  {
   "cell_type": "code",
   "execution_count": null,
   "metadata": {},
   "outputs": [],
   "source": [
    "### Create a sqlite file from a dataframe\n",
    "\n",
    "sql_data = 'wine_db.sqlite' #- Creates DB names SQLite\n",
    "conn = sq.connect(sql_data)\n",
    "cur = conn.cursor()\n",
    "# cur.execute('''DROP TABLE IF EXISTS''')\n",
    "consumption_df.to_sql('consumption', conn, if_exists='replace', index=True) # - writes the pd.df to SQLIte DB\n",
    "production_df.to_sql('production', conn, if_exists='replace', index=True)\n",
    "population_df.to_sql('population', conn, if_exists='replace', index=True)\n",
    "#pd.read_sql('select * from SentimentAnalysis', conn)\n",
    "conn.commit()\n",
    "conn.close()"
   ]
  },
  {
   "cell_type": "code",
   "execution_count": null,
   "metadata": {},
   "outputs": [],
   "source": []
  },
  {
   "cell_type": "code",
   "execution_count": null,
   "metadata": {},
   "outputs": [],
   "source": []
  },
  {
   "cell_type": "code",
   "execution_count": null,
   "metadata": {},
   "outputs": [],
   "source": [
    "### Create a sqlite file from a dataframe\n",
    "\n",
    "sql_data = 'winemag_short_db.sqlite' #- Creates DB names SQLite\n",
    "conn = sq.connect(sql_data)\n",
    "cur = conn.cursor()\n",
    "# cur.execute('''DROP TABLE IF EXISTS''')\n",
    "winemag_df.to_sql('winemag_db', conn, if_exists='replace', index=True) # - writes the pd.df to SQLIte DB\n",
    "# production_df.to_sql('production', conn, if_exists='replace', index=True)\n",
    "# population_df.to_sql('population', conn, if_exists='replace', index=True)\n",
    "#pd.read_sql('select * from SentimentAnalysis', conn)\n",
    "conn.commit()\n",
    "conn.close()"
   ]
  },
  {
   "cell_type": "code",
   "execution_count": null,
   "metadata": {},
   "outputs": [],
   "source": []
  },
  {
   "cell_type": "code",
   "execution_count": null,
   "metadata": {},
   "outputs": [],
   "source": [
    "pwd"
   ]
  },
  {
   "cell_type": "code",
   "execution_count": null,
   "metadata": {},
   "outputs": [],
   "source": []
  }
 ],
 "metadata": {
  "kernelspec": {
   "display_name": "Python 3",
   "language": "python",
   "name": "python3"
  },
  "language_info": {
   "codemirror_mode": {
    "name": "ipython",
    "version": 3
   },
   "file_extension": ".py",
   "mimetype": "text/x-python",
   "name": "python",
   "nbconvert_exporter": "python",
   "pygments_lexer": "ipython3",
   "version": "3.7.1"
  }
 },
 "nbformat": 4,
 "nbformat_minor": 2
}
