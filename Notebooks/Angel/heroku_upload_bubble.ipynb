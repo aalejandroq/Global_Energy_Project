{
 "cells": [
  {
   "cell_type": "code",
   "execution_count": 1,
   "metadata": {},
   "outputs": [],
   "source": [
    "import pandas as pd\n",
    "import sqlalchemy\n",
    "import sqlite3 as sq\n",
    "# from db_key import user, password, port, database, host, url"
   ]
  },
  {
   "cell_type": "code",
   "execution_count": 2,
   "metadata": {},
   "outputs": [],
   "source": [
    "# Set Heroku database credentials\n",
    "user = 'cvkuzmyutihdti'\n",
    "password = 'ccb658b9dbaa9f02508c213880d12db3c0025e92aea837baa7f5f11f60a073e0'\n",
    "port = '5432'\n",
    "database = 'd7drrt22cf3tcf'\n",
    "host = 'ec2-23-21-91-183.compute-1.amazonaws.com'\n",
    "url = 'postgres://'+user+':'+password+'@'+host+':'+port+'/'+database\n",
    "\n",
    "engine = sqlalchemy.create_engine(url) # connect to server\n",
    "con = engine.connect()"
   ]
  },
  {
   "cell_type": "code",
   "execution_count": 3,
   "metadata": {},
   "outputs": [],
   "source": [
    "# Read CSV file\n",
    "\n",
    "# file = 'countries_gdp_location.csv'\n",
    "# file = '../../Data/GDP_PercentageCSV/countries_gdp_location.csv'\n",
    "file = 'data_outputs/bubble2.csv'"
   ]
  },
  {
   "cell_type": "code",
   "execution_count": 4,
   "metadata": {},
   "outputs": [
    {
     "data": {
      "text/html": [
       "<div>\n",
       "<style scoped>\n",
       "    .dataframe tbody tr th:only-of-type {\n",
       "        vertical-align: middle;\n",
       "    }\n",
       "\n",
       "    .dataframe tbody tr th {\n",
       "        vertical-align: top;\n",
       "    }\n",
       "\n",
       "    .dataframe thead th {\n",
       "        text-align: right;\n",
       "    }\n",
       "</style>\n",
       "<table border=\"1\" class=\"dataframe\">\n",
       "  <thead>\n",
       "    <tr style=\"text-align: right;\">\n",
       "      <th></th>\n",
       "      <th>country</th>\n",
       "      <th>year</th>\n",
       "      <th>emissions</th>\n",
       "      <th>continent</th>\n",
       "      <th>consumption</th>\n",
       "      <th>gdp</th>\n",
       "    </tr>\n",
       "  </thead>\n",
       "  <tbody>\n",
       "    <tr>\n",
       "      <th>0</th>\n",
       "      <td>Algeria</td>\n",
       "      <td>1990</td>\n",
       "      <td>52.98</td>\n",
       "      <td>Africa</td>\n",
       "      <td>22</td>\n",
       "      <td>8.932503e+10</td>\n",
       "    </tr>\n",
       "    <tr>\n",
       "      <th>1</th>\n",
       "      <td>Algeria</td>\n",
       "      <td>1991</td>\n",
       "      <td>57.15</td>\n",
       "      <td>Africa</td>\n",
       "      <td>23</td>\n",
       "      <td>8.867477e+10</td>\n",
       "    </tr>\n",
       "    <tr>\n",
       "      <th>2</th>\n",
       "      <td>Algeria</td>\n",
       "      <td>1992</td>\n",
       "      <td>57.26</td>\n",
       "      <td>Africa</td>\n",
       "      <td>24</td>\n",
       "      <td>9.001360e+10</td>\n",
       "    </tr>\n",
       "    <tr>\n",
       "      <th>3</th>\n",
       "      <td>Algeria</td>\n",
       "      <td>1993</td>\n",
       "      <td>59.20</td>\n",
       "      <td>Africa</td>\n",
       "      <td>24</td>\n",
       "      <td>8.840571e+10</td>\n",
       "    </tr>\n",
       "    <tr>\n",
       "      <th>4</th>\n",
       "      <td>Algeria</td>\n",
       "      <td>1994</td>\n",
       "      <td>56.35</td>\n",
       "      <td>Africa</td>\n",
       "      <td>23</td>\n",
       "      <td>8.761240e+10</td>\n",
       "    </tr>\n",
       "  </tbody>\n",
       "</table>\n",
       "</div>"
      ],
      "text/plain": [
       "   country  year  emissions continent  consumption           gdp\n",
       "0  Algeria  1990      52.98    Africa           22  8.932503e+10\n",
       "1  Algeria  1991      57.15    Africa           23  8.867477e+10\n",
       "2  Algeria  1992      57.26    Africa           24  9.001360e+10\n",
       "3  Algeria  1993      59.20    Africa           24  8.840571e+10\n",
       "4  Algeria  1994      56.35    Africa           23  8.761240e+10"
      ]
     },
     "execution_count": 4,
     "metadata": {},
     "output_type": "execute_result"
    }
   ],
   "source": [
    "# Create a dataframe from csv file data\n",
    "\n",
    "df = pd.read_csv(file)\n",
    "df.head()\n"
   ]
  },
  {
   "cell_type": "code",
   "execution_count": 5,
   "metadata": {},
   "outputs": [
    {
     "data": {
      "text/plain": [
       "(1204, 6)"
      ]
     },
     "execution_count": 5,
     "metadata": {},
     "output_type": "execute_result"
    }
   ],
   "source": [
    "df.shape"
   ]
  },
  {
   "cell_type": "code",
   "execution_count": 6,
   "metadata": {},
   "outputs": [],
   "source": [
    "# Upload dataframe to Postgres SQL table in Heroku database\n",
    "\n",
    "df.to_sql(name=\"bubble_table\", con = engine, if_exists = 'replace', index=False)"
   ]
  },
  {
   "cell_type": "code",
   "execution_count": null,
   "metadata": {},
   "outputs": [],
   "source": []
  },
  {
   "cell_type": "code",
   "execution_count": null,
   "metadata": {},
   "outputs": [],
   "source": []
  }
 ],
 "metadata": {
  "kernelspec": {
   "display_name": "Python 3",
   "language": "python",
   "name": "python3"
  },
  "language_info": {
   "codemirror_mode": {
    "name": "ipython",
    "version": 3
   },
   "file_extension": ".py",
   "mimetype": "text/x-python",
   "name": "python",
   "nbconvert_exporter": "python",
   "pygments_lexer": "ipython3",
   "version": "3.7.1"
  }
 },
 "nbformat": 4,
 "nbformat_minor": 2
}
