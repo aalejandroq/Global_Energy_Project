{
 "cells": [
  {
   "cell_type": "code",
   "execution_count": 1,
   "metadata": {},
   "outputs": [],
   "source": [
    "import pandas as pd\n",
    "import quandl"
   ]
  },
  {
   "cell_type": "code",
   "execution_count": null,
   "metadata": {},
   "outputs": [],
   "source": [
    "# authtoken=\"Pjy4pjUdbZ7yRYkxkzj4\""
   ]
  },
  {
   "cell_type": "code",
   "execution_count": 42,
   "metadata": {},
   "outputs": [],
   "source": [
    "#*******************************************************"
   ]
  },
  {
   "cell_type": "code",
   "execution_count": 2,
   "metadata": {},
   "outputs": [
    {
     "data": {
      "text/html": [
       "<div>\n",
       "<style scoped>\n",
       "    .dataframe tbody tr th:only-of-type {\n",
       "        vertical-align: middle;\n",
       "    }\n",
       "\n",
       "    .dataframe tbody tr th {\n",
       "        vertical-align: top;\n",
       "    }\n",
       "\n",
       "    .dataframe thead th {\n",
       "        text-align: right;\n",
       "    }\n",
       "</style>\n",
       "<table border=\"1\" class=\"dataframe\">\n",
       "  <thead>\n",
       "    <tr style=\"text-align: right;\">\n",
       "      <th></th>\n",
       "      <th>Country</th>\n",
       "      <th>Code</th>\n",
       "      <th>Q_Ticker</th>\n",
       "    </tr>\n",
       "  </thead>\n",
       "  <tbody>\n",
       "    <tr>\n",
       "      <th>0</th>\n",
       "      <td>Belgium</td>\n",
       "      <td>BEL</td>\n",
       "      <td>UNAE/GVAKD_BEL</td>\n",
       "    </tr>\n",
       "    <tr>\n",
       "      <th>1</th>\n",
       "      <td>Czech Rep.</td>\n",
       "      <td>CZE</td>\n",
       "      <td>UNAE/GVAKD_CZE</td>\n",
       "    </tr>\n",
       "    <tr>\n",
       "      <th>2</th>\n",
       "      <td>France</td>\n",
       "      <td>FRA</td>\n",
       "      <td>UNAE/GVAKD_FRA</td>\n",
       "    </tr>\n",
       "    <tr>\n",
       "      <th>3</th>\n",
       "      <td>Germany</td>\n",
       "      <td>DEU</td>\n",
       "      <td>UNAE/GVAKD_DEU</td>\n",
       "    </tr>\n",
       "    <tr>\n",
       "      <th>4</th>\n",
       "      <td>Italy</td>\n",
       "      <td>ITA</td>\n",
       "      <td>UNAE/GVAKD_ITA</td>\n",
       "    </tr>\n",
       "  </tbody>\n",
       "</table>\n",
       "</div>"
      ],
      "text/plain": [
       "      Country Code        Q_Ticker\n",
       "0     Belgium  BEL  UNAE/GVAKD_BEL\n",
       "1  Czech Rep.  CZE  UNAE/GVAKD_CZE\n",
       "2      France  FRA  UNAE/GVAKD_FRA\n",
       "3     Germany  DEU  UNAE/GVAKD_DEU\n",
       "4       Italy  ITA  UNAE/GVAKD_ITA"
      ]
     },
     "execution_count": 2,
     "metadata": {},
     "output_type": "execute_result"
    }
   ],
   "source": [
    "tickers = pd.read_csv('ticker_list.csv')\n",
    "tickers.head()"
   ]
  },
  {
   "cell_type": "code",
   "execution_count": 115,
   "metadata": {},
   "outputs": [],
   "source": [
    "# tickers_short = tickers[:3]\n",
    "# tickers_short"
   ]
  },
  {
   "cell_type": "code",
   "execution_count": 3,
   "metadata": {},
   "outputs": [
    {
     "data": {
      "text/html": [
       "<div>\n",
       "<style scoped>\n",
       "    .dataframe tbody tr th:only-of-type {\n",
       "        vertical-align: middle;\n",
       "    }\n",
       "\n",
       "    .dataframe tbody tr th {\n",
       "        vertical-align: top;\n",
       "    }\n",
       "\n",
       "    .dataframe thead th {\n",
       "        text-align: right;\n",
       "    }\n",
       "</style>\n",
       "<table border=\"1\" class=\"dataframe\">\n",
       "  <thead>\n",
       "    <tr style=\"text-align: right;\">\n",
       "      <th></th>\n",
       "      <th>Country</th>\n",
       "      <th>Year</th>\n",
       "      <th>Agriculture</th>\n",
       "      <th>Mining</th>\n",
       "      <th>Manufacturing</th>\n",
       "      <th>Construction</th>\n",
       "      <th>Wholesale</th>\n",
       "      <th>Transport</th>\n",
       "      <th>Other</th>\n",
       "    </tr>\n",
       "  </thead>\n",
       "  <tbody>\n",
       "    <tr>\n",
       "      <th>0</th>\n",
       "      <td>xxx</td>\n",
       "      <td>0</td>\n",
       "      <td>0</td>\n",
       "      <td>0</td>\n",
       "      <td>0</td>\n",
       "      <td>0</td>\n",
       "      <td>0</td>\n",
       "      <td>0</td>\n",
       "      <td>0</td>\n",
       "    </tr>\n",
       "  </tbody>\n",
       "</table>\n",
       "</div>"
      ],
      "text/plain": [
       "  Country  Year  Agriculture  Mining  Manufacturing  Construction  Wholesale  \\\n",
       "0     xxx     0            0       0              0             0          0   \n",
       "\n",
       "   Transport  Other  \n",
       "0          0      0  "
      ]
     },
     "execution_count": 3,
     "metadata": {},
     "output_type": "execute_result"
    }
   ],
   "source": [
    "data = {'Country':['xxx'], 'Year':[0], 'Agriculture':[0], 'Mining':[0], 'Manufacturing':[0], 'Construction':[0], 'Wholesale':[0], 'Transport':[0], 'Other':[0]}\n",
    "\n",
    "gdp_df = pd.DataFrame(data)\n",
    "gdp_df"
   ]
  },
  {
   "cell_type": "code",
   "execution_count": 117,
   "metadata": {},
   "outputs": [],
   "source": [
    "# tickers_short.Q_Ticker[i]\n"
   ]
  },
  {
   "cell_type": "code",
   "execution_count": 108,
   "metadata": {},
   "outputs": [],
   "source": [
    "# quandl.get(tickers_short.Q_Ticker[1],authtoken=\"Pjy4pjUdbZ7yRYkxkzj4\")"
   ]
  },
  {
   "cell_type": "code",
   "execution_count": 7,
   "metadata": {},
   "outputs": [],
   "source": [
    "# for ticker in tickers.Q_Ticker:\n",
    "for i in range(len(tickers.Q_Ticker)):\n",
    "#     print(i)\n",
    "    df = quandl.get(tickers.Q_Ticker[i],authtoken=\"Pjy4pjUdbZ7yRYkxkzj4\")\n",
    "#     print('hi')\n",
    "#     tickers_short.Q_Ticker[i]\n",
    "    df = df.reset_index()\n",
    "    df['Date'] = pd.DatetimeIndex(df['Date']).year\n",
    "    df.columns = [\"Year\",\"Agriculture\",\"Mining\",\"Manufacturing\",\"Construction\",\"Wholesale\",\"Transport\",\"Other\",\"Total\"]\n",
    "    df['Country'] = tickers.Country[i]\n",
    "    \n",
    "    new_df = df[['Country'] + [col for col in df.columns if col != 'Country']]\n",
    "    new_df['Total'] = new_df.loc[:,'Agriculture':'Other'].sum(axis=1)\n",
    "    pct_df=new_df.loc[:,\"Agriculture\":\"Total\"].div(new_df[\"Total\"], axis=0)*100\n",
    "    \n",
    "    final_df = pd.DataFrame([new_df['Country'],new_df['Year'],pct_df[\"Agriculture\"],pct_df[\"Mining\"],pct_df[\"Manufacturing\"],pct_df[\"Construction\"],pct_df[\"Wholesale\"],pct_df[\"Transport\"],pct_df[\"Other\"]])\n",
    "    final_df = final_df.transpose()\n",
    "    \n",
    "    gdp_df = pd.concat([gdp_df,final_df], axis=0)\n",
    "    "
   ]
  },
  {
   "cell_type": "code",
   "execution_count": 8,
   "metadata": {},
   "outputs": [
    {
     "data": {
      "text/plain": [
       "(1965, 9)"
      ]
     },
     "execution_count": 8,
     "metadata": {},
     "output_type": "execute_result"
    }
   ],
   "source": [
    "gdp_df.shape"
   ]
  },
  {
   "cell_type": "code",
   "execution_count": 10,
   "metadata": {},
   "outputs": [
    {
     "data": {
      "text/html": [
       "<div>\n",
       "<style scoped>\n",
       "    .dataframe tbody tr th:only-of-type {\n",
       "        vertical-align: middle;\n",
       "    }\n",
       "\n",
       "    .dataframe tbody tr th {\n",
       "        vertical-align: top;\n",
       "    }\n",
       "\n",
       "    .dataframe thead th {\n",
       "        text-align: right;\n",
       "    }\n",
       "</style>\n",
       "<table border=\"1\" class=\"dataframe\">\n",
       "  <thead>\n",
       "    <tr style=\"text-align: right;\">\n",
       "      <th></th>\n",
       "      <th>Country</th>\n",
       "      <th>Year</th>\n",
       "      <th>Agriculture</th>\n",
       "      <th>Mining</th>\n",
       "      <th>Manufacturing</th>\n",
       "      <th>Construction</th>\n",
       "      <th>Wholesale</th>\n",
       "      <th>Transport</th>\n",
       "      <th>Other</th>\n",
       "    </tr>\n",
       "  </thead>\n",
       "  <tbody>\n",
       "    <tr>\n",
       "      <th>0</th>\n",
       "      <td>xxx</td>\n",
       "      <td>0</td>\n",
       "      <td>0</td>\n",
       "      <td>0</td>\n",
       "      <td>0</td>\n",
       "      <td>0</td>\n",
       "      <td>0</td>\n",
       "      <td>0</td>\n",
       "      <td>0</td>\n",
       "    </tr>\n",
       "    <tr>\n",
       "      <th>0</th>\n",
       "      <td>Belgium</td>\n",
       "      <td>1970</td>\n",
       "      <td>0.995886</td>\n",
       "      <td>14.678</td>\n",
       "      <td>13.2755</td>\n",
       "      <td>6.96779</td>\n",
       "      <td>21.9333</td>\n",
       "      <td>9.90321</td>\n",
       "      <td>32.2463</td>\n",
       "    </tr>\n",
       "    <tr>\n",
       "      <th>1</th>\n",
       "      <td>Belgium</td>\n",
       "      <td>1971</td>\n",
       "      <td>1.00741</td>\n",
       "      <td>14.8215</td>\n",
       "      <td>13.2666</td>\n",
       "      <td>6.81823</td>\n",
       "      <td>22.353</td>\n",
       "      <td>9.52575</td>\n",
       "      <td>32.2075</td>\n",
       "    </tr>\n",
       "    <tr>\n",
       "      <th>2</th>\n",
       "      <td>Belgium</td>\n",
       "      <td>1972</td>\n",
       "      <td>0.948038</td>\n",
       "      <td>15.2469</td>\n",
       "      <td>13.5396</td>\n",
       "      <td>6.53632</td>\n",
       "      <td>22.1406</td>\n",
       "      <td>9.17494</td>\n",
       "      <td>32.4136</td>\n",
       "    </tr>\n",
       "    <tr>\n",
       "      <th>3</th>\n",
       "      <td>Belgium</td>\n",
       "      <td>1973</td>\n",
       "      <td>0.917638</td>\n",
       "      <td>15.479</td>\n",
       "      <td>13.7384</td>\n",
       "      <td>6.40455</td>\n",
       "      <td>21.9786</td>\n",
       "      <td>9.11402</td>\n",
       "      <td>32.3678</td>\n",
       "    </tr>\n",
       "  </tbody>\n",
       "</table>\n",
       "</div>"
      ],
      "text/plain": [
       "   Country  Year Agriculture   Mining Manufacturing Construction Wholesale  \\\n",
       "0      xxx     0           0        0             0            0         0   \n",
       "0  Belgium  1970    0.995886   14.678       13.2755      6.96779   21.9333   \n",
       "1  Belgium  1971     1.00741  14.8215       13.2666      6.81823    22.353   \n",
       "2  Belgium  1972    0.948038  15.2469       13.5396      6.53632   22.1406   \n",
       "3  Belgium  1973    0.917638   15.479       13.7384      6.40455   21.9786   \n",
       "\n",
       "  Transport    Other  \n",
       "0         0        0  \n",
       "0   9.90321  32.2463  \n",
       "1   9.52575  32.2075  \n",
       "2   9.17494  32.4136  \n",
       "3   9.11402  32.3678  "
      ]
     },
     "execution_count": 10,
     "metadata": {},
     "output_type": "execute_result"
    }
   ],
   "source": [
    "gdp_df.head()"
   ]
  },
  {
   "cell_type": "code",
   "execution_count": 11,
   "metadata": {},
   "outputs": [],
   "source": [
    "gdp_df.to_csv('out.csv')"
   ]
  },
  {
   "cell_type": "code",
   "execution_count": null,
   "metadata": {},
   "outputs": [],
   "source": []
  }
 ],
 "metadata": {
  "kernelspec": {
   "display_name": "Python 3",
   "language": "python",
   "name": "python3"
  },
  "language_info": {
   "codemirror_mode": {
    "name": "ipython",
    "version": 3
   },
   "file_extension": ".py",
   "mimetype": "text/x-python",
   "name": "python",
   "nbconvert_exporter": "python",
   "pygments_lexer": "ipython3",
   "version": "3.7.1"
  }
 },
 "nbformat": 4,
 "nbformat_minor": 2
}
