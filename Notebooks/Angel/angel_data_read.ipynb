{
 "cells": [
  {
   "cell_type": "code",
   "execution_count": 1,
   "metadata": {},
   "outputs": [],
   "source": [
    "import pandas as pd\n",
    "# import matplotlib.pyplot as plt\n",
    "# from pandas import ExcelWriter\n",
    "# from pandas import ExcelFile\n",
    "import sqlalchemy\n",
    "import sqlite3 as sq"
   ]
  },
  {
   "cell_type": "code",
   "execution_count": 2,
   "metadata": {},
   "outputs": [],
   "source": [
    "user = 'cvkuzmyutihdti'\n",
    "password = 'ccb658b9dbaa9f02508c213880d12db3c0025e92aea837baa7f5f11f60a073e0'\n",
    "port = '5432'\n",
    "database = 'd7drrt22cf3tcf'\n",
    "host = 'ec2-23-21-91-183.compute-1.amazonaws.com'\n",
    "\n",
    "url = 'postgres://'+user+':'+password+'@'+host+':'+port+'/'+database\n",
    "\n",
    "engine = sqlalchemy.create_engine(url) # connect to server\n",
    "con = engine.connect()"
   ]
  },
  {
   "cell_type": "code",
   "execution_count": null,
   "metadata": {},
   "outputs": [],
   "source": []
  },
  {
   "cell_type": "code",
   "execution_count": null,
   "metadata": {},
   "outputs": [],
   "source": []
  },
  {
   "cell_type": "code",
   "execution_count": 18,
   "metadata": {},
   "outputs": [],
   "source": [
    "# file = 'CO2_emissions_from_fuel_combus.csv'\n",
    "file = 'Total_energy_consumption.csv'\n"
   ]
  },
  {
   "cell_type": "code",
   "execution_count": null,
   "metadata": {},
   "outputs": [],
   "source": []
  },
  {
   "cell_type": "code",
   "execution_count": null,
   "metadata": {},
   "outputs": [],
   "source": []
  },
  {
   "cell_type": "code",
   "execution_count": 19,
   "metadata": {},
   "outputs": [
    {
     "data": {
      "text/html": [
       "<div>\n",
       "<style scoped>\n",
       "    .dataframe tbody tr th:only-of-type {\n",
       "        vertical-align: middle;\n",
       "    }\n",
       "\n",
       "    .dataframe tbody tr th {\n",
       "        vertical-align: top;\n",
       "    }\n",
       "\n",
       "    .dataframe thead th {\n",
       "        text-align: right;\n",
       "    }\n",
       "</style>\n",
       "<table border=\"1\" class=\"dataframe\">\n",
       "  <thead>\n",
       "    <tr style=\"text-align: right;\">\n",
       "      <th></th>\n",
       "      <th>Year</th>\n",
       "      <th>World</th>\n",
       "      <th>OECD</th>\n",
       "      <th>G7</th>\n",
       "      <th>BRICS</th>\n",
       "      <th>Europe</th>\n",
       "      <th>European Union</th>\n",
       "      <th>Belgium</th>\n",
       "      <th>Czech Rep.</th>\n",
       "      <th>France</th>\n",
       "      <th>...</th>\n",
       "      <th>Africa</th>\n",
       "      <th>Algeria</th>\n",
       "      <th>Egypt</th>\n",
       "      <th>Nigeria</th>\n",
       "      <th>South Africa</th>\n",
       "      <th>Middle-East</th>\n",
       "      <th>Iran</th>\n",
       "      <th>Kuwait</th>\n",
       "      <th>Saudi Arabia</th>\n",
       "      <th>United Arab Emirates</th>\n",
       "    </tr>\n",
       "  </thead>\n",
       "  <tbody>\n",
       "    <tr>\n",
       "      <th>26</th>\n",
       "      <td>2015</td>\n",
       "      <td>13656</td>\n",
       "      <td>5275</td>\n",
       "      <td>3783</td>\n",
       "      <td>4977</td>\n",
       "      <td>1808</td>\n",
       "      <td>1588</td>\n",
       "      <td>53</td>\n",
       "      <td>42</td>\n",
       "      <td>246</td>\n",
       "      <td>...</td>\n",
       "      <td>774</td>\n",
       "      <td>54</td>\n",
       "      <td>79</td>\n",
       "      <td>139</td>\n",
       "      <td>142</td>\n",
       "      <td>758</td>\n",
       "      <td>237</td>\n",
       "      <td>35</td>\n",
       "      <td>222</td>\n",
       "      <td>73</td>\n",
       "    </tr>\n",
       "    <tr>\n",
       "      <th>27</th>\n",
       "      <td>2016</td>\n",
       "      <td>13812</td>\n",
       "      <td>5304</td>\n",
       "      <td>3782</td>\n",
       "      <td>5054</td>\n",
       "      <td>1821</td>\n",
       "      <td>1595</td>\n",
       "      <td>57</td>\n",
       "      <td>42</td>\n",
       "      <td>242</td>\n",
       "      <td>...</td>\n",
       "      <td>781</td>\n",
       "      <td>53</td>\n",
       "      <td>83</td>\n",
       "      <td>138</td>\n",
       "      <td>143</td>\n",
       "      <td>760</td>\n",
       "      <td>239</td>\n",
       "      <td>36</td>\n",
       "      <td>221</td>\n",
       "      <td>74</td>\n",
       "    </tr>\n",
       "    <tr>\n",
       "      <th>28</th>\n",
       "      <td>2017</td>\n",
       "      <td>14126</td>\n",
       "      <td>5363</td>\n",
       "      <td>3804</td>\n",
       "      <td>5214</td>\n",
       "      <td>1857</td>\n",
       "      <td>1611</td>\n",
       "      <td>56</td>\n",
       "      <td>44</td>\n",
       "      <td>243</td>\n",
       "      <td>...</td>\n",
       "      <td>805</td>\n",
       "      <td>53</td>\n",
       "      <td>86</td>\n",
       "      <td>140</td>\n",
       "      <td>140</td>\n",
       "      <td>786</td>\n",
       "      <td>253</td>\n",
       "      <td>35</td>\n",
       "      <td>224</td>\n",
       "      <td>74</td>\n",
       "    </tr>\n",
       "    <tr>\n",
       "      <th>29</th>\n",
       "      <td>2016 - 2017 (%)</td>\n",
       "      <td>2.3</td>\n",
       "      <td>1.1</td>\n",
       "      <td>0.6</td>\n",
       "      <td>3.2</td>\n",
       "      <td>2</td>\n",
       "      <td>1</td>\n",
       "      <td>-1.9</td>\n",
       "      <td>4.9</td>\n",
       "      <td>0.3</td>\n",
       "      <td>...</td>\n",
       "      <td>3.1</td>\n",
       "      <td>-0.1</td>\n",
       "      <td>4.3</td>\n",
       "      <td>1.6</td>\n",
       "      <td>-1.9</td>\n",
       "      <td>3.4</td>\n",
       "      <td>5.8</td>\n",
       "      <td>-0.4</td>\n",
       "      <td>1.4</td>\n",
       "      <td>-0.6</td>\n",
       "    </tr>\n",
       "    <tr>\n",
       "      <th>30</th>\n",
       "      <td>2000 - 2017 (%/year)</td>\n",
       "      <td>2</td>\n",
       "      <td>0.1</td>\n",
       "      <td>-0.3</td>\n",
       "      <td>4.5</td>\n",
       "      <td>0</td>\n",
       "      <td>-0.3</td>\n",
       "      <td>-0.3</td>\n",
       "      <td>0.3</td>\n",
       "      <td>-0.3</td>\n",
       "      <td>...</td>\n",
       "      <td>3</td>\n",
       "      <td>4.1</td>\n",
       "      <td>4.5</td>\n",
       "      <td>2.9</td>\n",
       "      <td>1.5</td>\n",
       "      <td>4.5</td>\n",
       "      <td>4.3</td>\n",
       "      <td>3.8</td>\n",
       "      <td>5</td>\n",
       "      <td>5.1</td>\n",
       "    </tr>\n",
       "  </tbody>\n",
       "</table>\n",
       "<p>5 rows × 59 columns</p>\n",
       "</div>"
      ],
      "text/plain": [
       "0                    Year  World  OECD    G7 BRICS Europe European Union  \\\n",
       "26                   2015  13656  5275  3783  4977   1808           1588   \n",
       "27                   2016  13812  5304  3782  5054   1821           1595   \n",
       "28                   2017  14126  5363  3804  5214   1857           1611   \n",
       "29       2016 - 2017 (%)     2.3   1.1   0.6   3.2      2              1   \n",
       "30  2000 - 2017 (%/year)       2   0.1  -0.3   4.5      0           -0.3   \n",
       "\n",
       "0  Belgium Czech Rep. France  ... Africa Algeria Egypt Nigeria South Africa  \\\n",
       "26      53         42    246  ...    774      54    79     139          142   \n",
       "27      57         42    242  ...    781      53    83     138          143   \n",
       "28      56         44    243  ...    805      53    86     140          140   \n",
       "29    -1.9        4.9    0.3  ...    3.1    -0.1   4.3     1.6         -1.9   \n",
       "30    -0.3        0.3   -0.3  ...      3     4.1   4.5     2.9          1.5   \n",
       "\n",
       "0  Middle-East Iran Kuwait Saudi Arabia United Arab Emirates  \n",
       "26         758  237     35          222                   73  \n",
       "27         760  239     36          221                   74  \n",
       "28         786  253     35          224                   74  \n",
       "29         3.4  5.8   -0.4          1.4                 -0.6  \n",
       "30         4.5  4.3    3.8            5                  5.1  \n",
       "\n",
       "[5 rows x 59 columns]"
      ]
     },
     "execution_count": 19,
     "metadata": {},
     "output_type": "execute_result"
    }
   ],
   "source": [
    "df = pd.read_csv(file)\n",
    "df = df.transpose()\n",
    "df = df.reset_index()\n",
    "df.columns = df.iloc[0]\n",
    "df = df.reindex(df.index.drop(0))\n",
    "df = df.rename(columns = {'Unnamed: 0':'Year'})\n",
    "df = df.reindex(df.index.drop(29))\n",
    "df = df.reindex(df.index.drop(30))\n",
    "df.head()\n"
   ]
  },
  {
   "cell_type": "code",
   "execution_count": 25,
   "metadata": {},
   "outputs": [],
   "source": [
    "df.to_sql(name=\"total_consumption\", con = engine, if_exists = 'replace', index=False)"
   ]
  },
  {
   "cell_type": "code",
   "execution_count": null,
   "metadata": {},
   "outputs": [],
   "source": []
  },
  {
   "cell_type": "code",
   "execution_count": null,
   "metadata": {},
   "outputs": [],
   "source": []
  },
  {
   "cell_type": "code",
   "execution_count": null,
   "metadata": {},
   "outputs": [],
   "source": []
  },
  {
   "cell_type": "code",
   "execution_count": null,
   "metadata": {},
   "outputs": [],
   "source": []
  },
  {
   "cell_type": "code",
   "execution_count": null,
   "metadata": {},
   "outputs": [],
   "source": []
  },
  {
   "cell_type": "code",
   "execution_count": null,
   "metadata": {},
   "outputs": [],
   "source": [
    "# df.to_sql(name=\"emissions\", con = engine, if_exists = 'replace', index=False)"
   ]
  },
  {
   "cell_type": "code",
   "execution_count": null,
   "metadata": {},
   "outputs": [],
   "source": []
  },
  {
   "cell_type": "code",
   "execution_count": null,
   "metadata": {},
   "outputs": [],
   "source": []
  },
  {
   "cell_type": "code",
   "execution_count": null,
   "metadata": {},
   "outputs": [],
   "source": []
  },
  {
   "cell_type": "code",
   "execution_count": null,
   "metadata": {},
   "outputs": [],
   "source": []
  },
  {
   "cell_type": "code",
   "execution_count": null,
   "metadata": {},
   "outputs": [],
   "source": []
  },
  {
   "cell_type": "code",
   "execution_count": null,
   "metadata": {},
   "outputs": [],
   "source": []
  },
  {
   "cell_type": "code",
   "execution_count": null,
   "metadata": {},
   "outputs": [],
   "source": []
  },
  {
   "cell_type": "code",
   "execution_count": null,
   "metadata": {},
   "outputs": [],
   "source": [
    "consumption_df = pd.read_excel(file, sheet_name='T34 Wine consumption vol', skiprows=0) # 1st row is sheet title, 2nd is column header"
   ]
  },
  {
   "cell_type": "code",
   "execution_count": null,
   "metadata": {
    "scrolled": true
   },
   "outputs": [],
   "source": [
    "consumption_df.head()"
   ]
  },
  {
   "cell_type": "code",
   "execution_count": null,
   "metadata": {},
   "outputs": [],
   "source": [
    "test = consumption_df.set_index('year')"
   ]
  },
  {
   "cell_type": "code",
   "execution_count": null,
   "metadata": {},
   "outputs": [],
   "source": [
    "test = consumption_df.transpose()"
   ]
  },
  {
   "cell_type": "code",
   "execution_count": null,
   "metadata": {},
   "outputs": [],
   "source": [
    "test.head()"
   ]
  },
  {
   "cell_type": "code",
   "execution_count": null,
   "metadata": {},
   "outputs": [],
   "source": [
    "consumption_df = pd.read_excel(file, sheet_name='T34 Wine consumption vol', skiprows=0) # 1st row is sheet title, 2nd is column header\n",
    "\n",
    "production_df = pd.read_excel(file, sheet_name='T6 Wine production', skiprows=0) # 1st row is sheet title, 2nd is column header\n",
    "\n",
    "population_df = pd.read_excel(file, sheet_name='T58 Population', skiprows=0) # 1st row is sheet title, 2nd is column header\n"
   ]
  },
  {
   "cell_type": "code",
   "execution_count": null,
   "metadata": {},
   "outputs": [],
   "source": [
    "consumption_df.head()"
   ]
  },
  {
   "cell_type": "code",
   "execution_count": null,
   "metadata": {},
   "outputs": [],
   "source": [
    "production_df.head()"
   ]
  },
  {
   "cell_type": "code",
   "execution_count": null,
   "metadata": {},
   "outputs": [],
   "source": [
    "population_df.head()"
   ]
  },
  {
   "cell_type": "code",
   "execution_count": null,
   "metadata": {},
   "outputs": [],
   "source": [
    "user = 'cvkuzmyutihdti'\n",
    "password = 'ccb658b9dbaa9f02508c213880d12db3c0025e92aea837baa7f5f11f60a073e0'\n",
    "port = '5432'\n",
    "database = 'd7drrt22cf3tcf'\n",
    "host = 'ec2-23-21-91-183.compute-1.amazonaws.com'\n",
    "\n",
    "url = 'postgres://'+user+':'+password+'@'+host+':'+port+'/'+database\n",
    "\n",
    "engine = sqlalchemy.create_engine(url) # connect to server\n",
    "con = engine.connect()"
   ]
  },
  {
   "cell_type": "code",
   "execution_count": null,
   "metadata": {},
   "outputs": [],
   "source": [
    "consumption_df.to_sql(name=\"consumption_db\", con = engine, if_exists = 'replace', index=False)\n",
    "production_df.to_sql(name=\"production_db\", con = engine, if_exists = 'replace', index=False)\n",
    "population_df.to_sql(name=\"population_db\", con = engine, if_exists = 'replace', index=False)"
   ]
  },
  {
   "cell_type": "code",
   "execution_count": null,
   "metadata": {},
   "outputs": [],
   "source": []
  },
  {
   "cell_type": "code",
   "execution_count": null,
   "metadata": {},
   "outputs": [],
   "source": []
  },
  {
   "cell_type": "code",
   "execution_count": null,
   "metadata": {},
   "outputs": [],
   "source": [
    "## create df from wine reviews file\n",
    "winemag_df = pd.read_csv('winemag-data-short.csv')\n",
    "winemag_df.head()"
   ]
  },
  {
   "cell_type": "code",
   "execution_count": null,
   "metadata": {},
   "outputs": [],
   "source": []
  },
  {
   "cell_type": "code",
   "execution_count": null,
   "metadata": {},
   "outputs": [],
   "source": [
    "# Create table with wine reviews info in heroku postgres\n",
    "winemag_df.to_sql(name=\"winemag_db\", con = engine, if_exists = 'replace', index=False)"
   ]
  },
  {
   "cell_type": "code",
   "execution_count": null,
   "metadata": {},
   "outputs": [],
   "source": []
  },
  {
   "cell_type": "code",
   "execution_count": null,
   "metadata": {},
   "outputs": [],
   "source": []
  },
  {
   "cell_type": "code",
   "execution_count": null,
   "metadata": {},
   "outputs": [],
   "source": []
  },
  {
   "cell_type": "code",
   "execution_count": null,
   "metadata": {},
   "outputs": [],
   "source": []
  },
  {
   "cell_type": "code",
   "execution_count": null,
   "metadata": {},
   "outputs": [],
   "source": [
    "### Create a sqlite file from a dataframe\n",
    "\n",
    "sql_data = 'wine_db.sqlite' #- Creates DB names SQLite\n",
    "conn = sq.connect(sql_data)\n",
    "cur = conn.cursor()\n",
    "# cur.execute('''DROP TABLE IF EXISTS''')\n",
    "consumption_df.to_sql('consumption', conn, if_exists='replace', index=True) # - writes the pd.df to SQLIte DB\n",
    "production_df.to_sql('production', conn, if_exists='replace', index=True)\n",
    "population_df.to_sql('population', conn, if_exists='replace', index=True)\n",
    "#pd.read_sql('select * from SentimentAnalysis', conn)\n",
    "conn.commit()\n",
    "conn.close()"
   ]
  },
  {
   "cell_type": "code",
   "execution_count": null,
   "metadata": {},
   "outputs": [],
   "source": []
  },
  {
   "cell_type": "code",
   "execution_count": null,
   "metadata": {},
   "outputs": [],
   "source": []
  },
  {
   "cell_type": "code",
   "execution_count": null,
   "metadata": {},
   "outputs": [],
   "source": [
    "### Create a sqlite file from a dataframe\n",
    "\n",
    "sql_data = 'winemag_short_db.sqlite' #- Creates DB names SQLite\n",
    "conn = sq.connect(sql_data)\n",
    "cur = conn.cursor()\n",
    "# cur.execute('''DROP TABLE IF EXISTS''')\n",
    "winemag_df.to_sql('winemag_db', conn, if_exists='replace', index=True) # - writes the pd.df to SQLIte DB\n",
    "# production_df.to_sql('production', conn, if_exists='replace', index=True)\n",
    "# population_df.to_sql('population', conn, if_exists='replace', index=True)\n",
    "#pd.read_sql('select * from SentimentAnalysis', conn)\n",
    "conn.commit()\n",
    "conn.close()"
   ]
  },
  {
   "cell_type": "code",
   "execution_count": null,
   "metadata": {},
   "outputs": [],
   "source": []
  },
  {
   "cell_type": "code",
   "execution_count": null,
   "metadata": {},
   "outputs": [],
   "source": [
    "pwd"
   ]
  },
  {
   "cell_type": "code",
   "execution_count": null,
   "metadata": {},
   "outputs": [],
   "source": []
  }
 ],
 "metadata": {
  "kernelspec": {
   "display_name": "Python 3",
   "language": "python",
   "name": "python3"
  },
  "language_info": {
   "codemirror_mode": {
    "name": "ipython",
    "version": 3
   },
   "file_extension": ".py",
   "mimetype": "text/x-python",
   "name": "python",
   "nbconvert_exporter": "python",
   "pygments_lexer": "ipython3",
   "version": "3.7.1"
  }
 },
 "nbformat": 4,
 "nbformat_minor": 2
}
