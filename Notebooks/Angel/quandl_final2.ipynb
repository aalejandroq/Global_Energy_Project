{
 "cells": [
  {
   "cell_type": "code",
   "execution_count": 6,
   "metadata": {},
   "outputs": [],
   "source": [
    "import pandas as pd\n",
    "import quandl"
   ]
  },
  {
   "cell_type": "code",
   "execution_count": 7,
   "metadata": {},
   "outputs": [],
   "source": [
    "# authtoken=\"Pjy4pjUdbZ7yRYkxkzj4\""
   ]
  },
  {
   "cell_type": "code",
   "execution_count": 8,
   "metadata": {},
   "outputs": [],
   "source": [
    "#*******************************************************"
   ]
  },
  {
   "cell_type": "code",
   "execution_count": 9,
   "metadata": {},
   "outputs": [
    {
     "data": {
      "text/html": [
       "<div>\n",
       "<style scoped>\n",
       "    .dataframe tbody tr th:only-of-type {\n",
       "        vertical-align: middle;\n",
       "    }\n",
       "\n",
       "    .dataframe tbody tr th {\n",
       "        vertical-align: top;\n",
       "    }\n",
       "\n",
       "    .dataframe thead th {\n",
       "        text-align: right;\n",
       "    }\n",
       "</style>\n",
       "<table border=\"1\" class=\"dataframe\">\n",
       "  <thead>\n",
       "    <tr style=\"text-align: right;\">\n",
       "      <th></th>\n",
       "      <th>Country</th>\n",
       "      <th>Code</th>\n",
       "      <th>Q_Ticker</th>\n",
       "    </tr>\n",
       "  </thead>\n",
       "  <tbody>\n",
       "    <tr>\n",
       "      <th>0</th>\n",
       "      <td>Belgium</td>\n",
       "      <td>BEL</td>\n",
       "      <td>UNAE/GVAKD_BEL</td>\n",
       "    </tr>\n",
       "    <tr>\n",
       "      <th>1</th>\n",
       "      <td>Czech Rep.</td>\n",
       "      <td>CZE</td>\n",
       "      <td>UNAE/GVAKD_CZE</td>\n",
       "    </tr>\n",
       "    <tr>\n",
       "      <th>2</th>\n",
       "      <td>France</td>\n",
       "      <td>FRA</td>\n",
       "      <td>UNAE/GVAKD_FRA</td>\n",
       "    </tr>\n",
       "    <tr>\n",
       "      <th>3</th>\n",
       "      <td>Germany</td>\n",
       "      <td>DEU</td>\n",
       "      <td>UNAE/GVAKD_DEU</td>\n",
       "    </tr>\n",
       "    <tr>\n",
       "      <th>4</th>\n",
       "      <td>Italy</td>\n",
       "      <td>ITA</td>\n",
       "      <td>UNAE/GVAKD_ITA</td>\n",
       "    </tr>\n",
       "  </tbody>\n",
       "</table>\n",
       "</div>"
      ],
      "text/plain": [
       "      Country Code        Q_Ticker\n",
       "0     Belgium  BEL  UNAE/GVAKD_BEL\n",
       "1  Czech Rep.  CZE  UNAE/GVAKD_CZE\n",
       "2      France  FRA  UNAE/GVAKD_FRA\n",
       "3     Germany  DEU  UNAE/GVAKD_DEU\n",
       "4       Italy  ITA  UNAE/GVAKD_ITA"
      ]
     },
     "execution_count": 9,
     "metadata": {},
     "output_type": "execute_result"
    }
   ],
   "source": [
    "tickers = pd.read_csv('ticker_list.csv')\n",
    "tickers.head()"
   ]
  },
  {
   "cell_type": "code",
   "execution_count": 115,
   "metadata": {},
   "outputs": [],
   "source": [
    "# tickers_short = tickers[:3]\n",
    "# tickers_short"
   ]
  },
  {
   "cell_type": "code",
   "execution_count": 17,
   "metadata": {},
   "outputs": [
    {
     "data": {
      "text/html": [
       "<div>\n",
       "<style scoped>\n",
       "    .dataframe tbody tr th:only-of-type {\n",
       "        vertical-align: middle;\n",
       "    }\n",
       "\n",
       "    .dataframe tbody tr th {\n",
       "        vertical-align: top;\n",
       "    }\n",
       "\n",
       "    .dataframe thead th {\n",
       "        text-align: right;\n",
       "    }\n",
       "</style>\n",
       "<table border=\"1\" class=\"dataframe\">\n",
       "  <thead>\n",
       "    <tr style=\"text-align: right;\">\n",
       "      <th></th>\n",
       "      <th>Country</th>\n",
       "      <th>Year</th>\n",
       "      <th>Agriculture</th>\n",
       "      <th>Mining</th>\n",
       "      <th>Manufacturing</th>\n",
       "      <th>Construction</th>\n",
       "      <th>Wholesale</th>\n",
       "      <th>Transport</th>\n",
       "      <th>Other</th>\n",
       "      <th>Total</th>\n",
       "    </tr>\n",
       "  </thead>\n",
       "  <tbody>\n",
       "    <tr>\n",
       "      <th>0</th>\n",
       "      <td>xxx</td>\n",
       "      <td>0</td>\n",
       "      <td>0</td>\n",
       "      <td>0</td>\n",
       "      <td>0</td>\n",
       "      <td>0</td>\n",
       "      <td>0</td>\n",
       "      <td>0</td>\n",
       "      <td>0</td>\n",
       "      <td>0</td>\n",
       "    </tr>\n",
       "  </tbody>\n",
       "</table>\n",
       "</div>"
      ],
      "text/plain": [
       "  Country  Year  Agriculture  Mining  Manufacturing  Construction  Wholesale  \\\n",
       "0     xxx     0            0       0              0             0          0   \n",
       "\n",
       "   Transport  Other  Total  \n",
       "0          0      0      0  "
      ]
     },
     "execution_count": 17,
     "metadata": {},
     "output_type": "execute_result"
    }
   ],
   "source": [
    "# Para iniciar el dataframe\n",
    "# HAY QUE BORRAR ESTA LINEA DEL CSV\n",
    "data = {'Country':['xxx'], 'Year':[0], 'Agriculture':[0], 'Mining':[0], 'Manufacturing':[0], 'Construction':[0], 'Wholesale':[0], 'Transport':[0], 'Other':[0], 'Total':[0]}\n",
    "# data = {'Country', 'Year', 'Agriculture', 'Mining', 'Manufacturing', 'Construction', 'Wholesale', 'Transport', 'Other'}\n",
    "gdp_df = pd.DataFrame(data)\n",
    "gdp_df"
   ]
  },
  {
   "cell_type": "code",
   "execution_count": 117,
   "metadata": {},
   "outputs": [],
   "source": [
    "# tickers_short.Q_Ticker[i]\n"
   ]
  },
  {
   "cell_type": "code",
   "execution_count": 108,
   "metadata": {},
   "outputs": [],
   "source": [
    "# quandl.get(tickers_short.Q_Ticker[1],authtoken=\"Pjy4pjUdbZ7yRYkxkzj4\")"
   ]
  },
  {
   "cell_type": "code",
   "execution_count": 19,
   "metadata": {},
   "outputs": [],
   "source": [
    "# for ticker in tickers.Q_Ticker:\n",
    "for i in range(len(tickers.Q_Ticker)):\n",
    "    df = quandl.get(tickers.Q_Ticker[i],authtoken=\"Pjy4pjUdbZ7yRYkxkzj4\")\n",
    "    df = df.reset_index()\n",
    "    df['Date'] = pd.DatetimeIndex(df['Date']).year\n",
    "    df.columns = [\"Year\",\"Agriculture\",\"Mining\",\"Manufacturing\",\"Construction\",\"Wholesale\",\"Transport\",\"Other\",\"Total\"]\n",
    "    df['Country'] = tickers.Country[i]\n",
    "    \n",
    "    new_df = df[['Country'] + [col for col in df.columns if col != 'Country']]\n",
    "#     new_df['Total'] = new_df.loc[:,'Agriculture':'Other'].sum(axis=1)\n",
    "#     pct_df=new_df.loc[:,\"Agriculture\":\"Total\"].div(new_df[\"Total\"], axis=0)*100\n",
    "    \n",
    "#     final_df = pd.DataFrame([new_df['Country'],new_df['Year'],pct_df[\"Agriculture\"],pct_df[\"Mining\"],pct_df[\"Manufacturing\"],pct_df[\"Construction\"],pct_df[\"Wholesale\"],pct_df[\"Transport\"],pct_df[\"Other\"]])\n",
    "#     final_df = final_df.transpose()\n",
    "    \n",
    "#     gdp_df = pd.concat([gdp_df,final_df], axis=0)\n",
    "    gdp_df = pd.concat([gdp_df,new_df], axis=0)\n",
    "    "
   ]
  },
  {
   "cell_type": "code",
   "execution_count": 20,
   "metadata": {},
   "outputs": [
    {
     "data": {
      "text/plain": [
       "(1965, 10)"
      ]
     },
     "execution_count": 20,
     "metadata": {},
     "output_type": "execute_result"
    }
   ],
   "source": [
    "gdp_df.shape"
   ]
  },
  {
   "cell_type": "code",
   "execution_count": 21,
   "metadata": {},
   "outputs": [
    {
     "data": {
      "text/html": [
       "<div>\n",
       "<style scoped>\n",
       "    .dataframe tbody tr th:only-of-type {\n",
       "        vertical-align: middle;\n",
       "    }\n",
       "\n",
       "    .dataframe tbody tr th {\n",
       "        vertical-align: top;\n",
       "    }\n",
       "\n",
       "    .dataframe thead th {\n",
       "        text-align: right;\n",
       "    }\n",
       "</style>\n",
       "<table border=\"1\" class=\"dataframe\">\n",
       "  <thead>\n",
       "    <tr style=\"text-align: right;\">\n",
       "      <th></th>\n",
       "      <th>Country</th>\n",
       "      <th>Year</th>\n",
       "      <th>Agriculture</th>\n",
       "      <th>Mining</th>\n",
       "      <th>Manufacturing</th>\n",
       "      <th>Construction</th>\n",
       "      <th>Wholesale</th>\n",
       "      <th>Transport</th>\n",
       "      <th>Other</th>\n",
       "      <th>Total</th>\n",
       "    </tr>\n",
       "  </thead>\n",
       "  <tbody>\n",
       "    <tr>\n",
       "      <th>0</th>\n",
       "      <td>xxx</td>\n",
       "      <td>0</td>\n",
       "      <td>0.000000e+00</td>\n",
       "      <td>0.000000e+00</td>\n",
       "      <td>0</td>\n",
       "      <td>0.000000e+00</td>\n",
       "      <td>0.000000e+00</td>\n",
       "      <td>0.000000e+00</td>\n",
       "      <td>0.000000e+00</td>\n",
       "      <td>0.000000e+00</td>\n",
       "    </tr>\n",
       "    <tr>\n",
       "      <th>0</th>\n",
       "      <td>Belgium</td>\n",
       "      <td>1970</td>\n",
       "      <td>1.871867e+09</td>\n",
       "      <td>2.758882e+10</td>\n",
       "      <td>2.49526e+10</td>\n",
       "      <td>1.309667e+10</td>\n",
       "      <td>4.122585e+10</td>\n",
       "      <td>1.861408e+10</td>\n",
       "      <td>6.061017e+10</td>\n",
       "      <td>1.626366e+11</td>\n",
       "    </tr>\n",
       "    <tr>\n",
       "      <th>1</th>\n",
       "      <td>Belgium</td>\n",
       "      <td>1971</td>\n",
       "      <td>1.970673e+09</td>\n",
       "      <td>2.899341e+10</td>\n",
       "      <td>2.59517e+10</td>\n",
       "      <td>1.333762e+10</td>\n",
       "      <td>4.372626e+10</td>\n",
       "      <td>1.863399e+10</td>\n",
       "      <td>6.300335e+10</td>\n",
       "      <td>1.693548e+11</td>\n",
       "    </tr>\n",
       "    <tr>\n",
       "      <th>2</th>\n",
       "      <td>Belgium</td>\n",
       "      <td>1972</td>\n",
       "      <td>1.960046e+09</td>\n",
       "      <td>3.152257e+10</td>\n",
       "      <td>2.79928e+10</td>\n",
       "      <td>1.351370e+10</td>\n",
       "      <td>4.577527e+10</td>\n",
       "      <td>1.896898e+10</td>\n",
       "      <td>6.701439e+10</td>\n",
       "      <td>1.784529e+11</td>\n",
       "    </tr>\n",
       "    <tr>\n",
       "      <th>3</th>\n",
       "      <td>Belgium</td>\n",
       "      <td>1973</td>\n",
       "      <td>2.035729e+09</td>\n",
       "      <td>3.433925e+10</td>\n",
       "      <td>3.04779e+10</td>\n",
       "      <td>1.420814e+10</td>\n",
       "      <td>4.875836e+10</td>\n",
       "      <td>2.021894e+10</td>\n",
       "      <td>7.180614e+10</td>\n",
       "      <td>1.910200e+11</td>\n",
       "    </tr>\n",
       "  </tbody>\n",
       "</table>\n",
       "</div>"
      ],
      "text/plain": [
       "   Country  Year   Agriculture        Mining Manufacturing  Construction  \\\n",
       "0      xxx     0  0.000000e+00  0.000000e+00             0  0.000000e+00   \n",
       "0  Belgium  1970  1.871867e+09  2.758882e+10   2.49526e+10  1.309667e+10   \n",
       "1  Belgium  1971  1.970673e+09  2.899341e+10   2.59517e+10  1.333762e+10   \n",
       "2  Belgium  1972  1.960046e+09  3.152257e+10   2.79928e+10  1.351370e+10   \n",
       "3  Belgium  1973  2.035729e+09  3.433925e+10   3.04779e+10  1.420814e+10   \n",
       "\n",
       "      Wholesale     Transport         Other         Total  \n",
       "0  0.000000e+00  0.000000e+00  0.000000e+00  0.000000e+00  \n",
       "0  4.122585e+10  1.861408e+10  6.061017e+10  1.626366e+11  \n",
       "1  4.372626e+10  1.863399e+10  6.300335e+10  1.693548e+11  \n",
       "2  4.577527e+10  1.896898e+10  6.701439e+10  1.784529e+11  \n",
       "3  4.875836e+10  2.021894e+10  7.180614e+10  1.910200e+11  "
      ]
     },
     "execution_count": 21,
     "metadata": {},
     "output_type": "execute_result"
    }
   ],
   "source": [
    "gdp_df.head()"
   ]
  },
  {
   "cell_type": "code",
   "execution_count": 22,
   "metadata": {},
   "outputs": [],
   "source": [
    "gdp_df.to_csv('out_2.csv')"
   ]
  },
  {
   "cell_type": "code",
   "execution_count": null,
   "metadata": {},
   "outputs": [],
   "source": []
  }
 ],
 "metadata": {
  "kernelspec": {
   "display_name": "Python 3",
   "language": "python",
   "name": "python3"
  },
  "language_info": {
   "codemirror_mode": {
    "name": "ipython",
    "version": 3
   },
   "file_extension": ".py",
   "mimetype": "text/x-python",
   "name": "python",
   "nbconvert_exporter": "python",
   "pygments_lexer": "ipython3",
   "version": "3.7.1"
  }
 },
 "nbformat": 4,
 "nbformat_minor": 2
}
