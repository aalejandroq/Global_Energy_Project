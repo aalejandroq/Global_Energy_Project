{
 "cells": [
  {
   "cell_type": "code",
   "execution_count": 22,
   "metadata": {},
   "outputs": [],
   "source": [
    "import pandas as pd\n",
    "import quandl"
   ]
  },
  {
   "cell_type": "code",
   "execution_count": 23,
   "metadata": {},
   "outputs": [],
   "source": []
  },
  {
   "cell_type": "code",
   "execution_count": 24,
   "metadata": {},
   "outputs": [],
   "source": [
    "#*******************************************************"
   ]
  },
  {
   "cell_type": "code",
   "execution_count": 53,
   "metadata": {},
   "outputs": [
    {
     "data": {
      "text/html": [
       "<div>\n",
       "<style scoped>\n",
       "    .dataframe tbody tr th:only-of-type {\n",
       "        vertical-align: middle;\n",
       "    }\n",
       "\n",
       "    .dataframe tbody tr th {\n",
       "        vertical-align: top;\n",
       "    }\n",
       "\n",
       "    .dataframe thead th {\n",
       "        text-align: right;\n",
       "    }\n",
       "</style>\n",
       "<table border=\"1\" class=\"dataframe\">\n",
       "  <thead>\n",
       "    <tr style=\"text-align: right;\">\n",
       "      <th></th>\n",
       "      <th>Country</th>\n",
       "      <th>Code</th>\n",
       "      <th>Q_Ticker</th>\n",
       "    </tr>\n",
       "  </thead>\n",
       "  <tbody>\n",
       "    <tr>\n",
       "      <th>0</th>\n",
       "      <td>Spain</td>\n",
       "      <td>ESP</td>\n",
       "      <td>UNAE/GVAKD_ESP</td>\n",
       "    </tr>\n",
       "    <tr>\n",
       "      <th>1</th>\n",
       "      <td>Sri Lanka</td>\n",
       "      <td>LKA</td>\n",
       "      <td>UNAE/GVAKD_LKA</td>\n",
       "    </tr>\n",
       "    <tr>\n",
       "      <th>2</th>\n",
       "      <td>Suriname</td>\n",
       "      <td>SUR</td>\n",
       "      <td>UNAE/GVAKD_SUR</td>\n",
       "    </tr>\n",
       "    <tr>\n",
       "      <th>3</th>\n",
       "      <td>Swaziland</td>\n",
       "      <td>SWZ</td>\n",
       "      <td>UNAE/GVAKD_SWZ</td>\n",
       "    </tr>\n",
       "    <tr>\n",
       "      <th>4</th>\n",
       "      <td>Sweden</td>\n",
       "      <td>SWE</td>\n",
       "      <td>UNAE/GVAKD_SWE</td>\n",
       "    </tr>\n",
       "  </tbody>\n",
       "</table>\n",
       "</div>"
      ],
      "text/plain": [
       "     Country Code        Q_Ticker\n",
       "0      Spain  ESP  UNAE/GVAKD_ESP\n",
       "1  Sri Lanka  LKA  UNAE/GVAKD_LKA\n",
       "2   Suriname  SUR  UNAE/GVAKD_SUR\n",
       "3  Swaziland  SWZ  UNAE/GVAKD_SWZ\n",
       "4     Sweden  SWE  UNAE/GVAKD_SWE"
      ]
     },
     "execution_count": 53,
     "metadata": {},
     "output_type": "execute_result"
    }
   ],
   "source": [
    "tickers = pd.read_csv('ticker_list_long_S-Z.csv')\n",
    "tickers.head()"
   ]
  },
  {
   "cell_type": "code",
   "execution_count": 54,
   "metadata": {},
   "outputs": [],
   "source": [
    "# tickers_short = tickers[:3]\n",
    "# tickers_short"
   ]
  },
  {
   "cell_type": "code",
   "execution_count": 55,
   "metadata": {},
   "outputs": [
    {
     "data": {
      "text/html": [
       "<div>\n",
       "<style scoped>\n",
       "    .dataframe tbody tr th:only-of-type {\n",
       "        vertical-align: middle;\n",
       "    }\n",
       "\n",
       "    .dataframe tbody tr th {\n",
       "        vertical-align: top;\n",
       "    }\n",
       "\n",
       "    .dataframe thead th {\n",
       "        text-align: right;\n",
       "    }\n",
       "</style>\n",
       "<table border=\"1\" class=\"dataframe\">\n",
       "  <thead>\n",
       "    <tr style=\"text-align: right;\">\n",
       "      <th></th>\n",
       "      <th>Country</th>\n",
       "      <th>Year</th>\n",
       "      <th>Agriculture</th>\n",
       "      <th>Mining</th>\n",
       "      <th>Manufacturing</th>\n",
       "      <th>Construction</th>\n",
       "      <th>Wholesale</th>\n",
       "      <th>Transport</th>\n",
       "      <th>Other</th>\n",
       "      <th>Total</th>\n",
       "    </tr>\n",
       "  </thead>\n",
       "  <tbody>\n",
       "    <tr>\n",
       "      <th>0</th>\n",
       "      <td>xxx</td>\n",
       "      <td>0</td>\n",
       "      <td>0</td>\n",
       "      <td>0</td>\n",
       "      <td>0</td>\n",
       "      <td>0</td>\n",
       "      <td>0</td>\n",
       "      <td>0</td>\n",
       "      <td>0</td>\n",
       "      <td>0</td>\n",
       "    </tr>\n",
       "  </tbody>\n",
       "</table>\n",
       "</div>"
      ],
      "text/plain": [
       "  Country  Year  Agriculture  Mining  Manufacturing  Construction  Wholesale  \\\n",
       "0     xxx     0            0       0              0             0          0   \n",
       "\n",
       "   Transport  Other  Total  \n",
       "0          0      0      0  "
      ]
     },
     "execution_count": 55,
     "metadata": {},
     "output_type": "execute_result"
    }
   ],
   "source": [
    "# Para iniciar el dataframe\n",
    "# HAY QUE BORRAR ESTA LINEA DEL CSV\n",
    "data = {'Country':['xxx'], 'Year':[0], 'Agriculture':[0], 'Mining':[0], 'Manufacturing':[0], 'Construction':[0], 'Wholesale':[0], 'Transport':[0], 'Other':[0], 'Total':[0]}\n",
    "# data = {'Country', 'Year', 'Agriculture', 'Mining', 'Manufacturing', 'Construction', 'Wholesale', 'Transport', 'Other'}\n",
    "gdp_df = pd.DataFrame(data)\n",
    "gdp_df"
   ]
  },
  {
   "cell_type": "code",
   "execution_count": 56,
   "metadata": {},
   "outputs": [],
   "source": [
    "# tickers_short.Q_Ticker[i]\n"
   ]
  },
  {
   "cell_type": "code",
   "execution_count": 57,
   "metadata": {},
   "outputs": [],
   "source": []
  },
  {
   "cell_type": "code",
   "execution_count": 58,
   "metadata": {},
   "outputs": [],
   "source": [
    "# for ticker in tickers.Q_Ticker:\n",
    "for i in range(len(tickers.Q_Ticker)):\n",
    "    df = quandl.get(tickers.Q_Ticker[i],authtoken=\"**********\")\n",
    "    df = df.reset_index()\n",
    "    df['Date'] = pd.DatetimeIndex(df['Date']).year\n",
    "    df.columns = [\"Year\",\"Agriculture\",\"Mining\",\"Manufacturing\",\"Construction\",\"Wholesale\",\"Transport\",\"Other\",\"Total\"]\n",
    "    df['Country'] = tickers.Country[i]\n",
    "    \n",
    "    new_df = df[['Country'] + [col for col in df.columns if col != 'Country']]\n",
    "#     new_df['Total'] = new_df.loc[:,'Agriculture':'Other'].sum(axis=1)\n",
    "#     pct_df=new_df.loc[:,\"Agriculture\":\"Total\"].div(new_df[\"Total\"], axis=0)*100\n",
    "    \n",
    "#     final_df = pd.DataFrame([new_df['Country'],new_df['Year'],pct_df[\"Agriculture\"],pct_df[\"Mining\"],pct_df[\"Manufacturing\"],pct_df[\"Construction\"],pct_df[\"Wholesale\"],pct_df[\"Transport\"],pct_df[\"Other\"]])\n",
    "#     final_df = final_df.transpose()\n",
    "    \n",
    "#     gdp_df = pd.concat([gdp_df,final_df], axis=0)\n",
    "    gdp_df = pd.concat([gdp_df,new_df], axis=0)\n",
    "    "
   ]
  },
  {
   "cell_type": "code",
   "execution_count": 59,
   "metadata": {},
   "outputs": [
    {
     "data": {
      "text/plain": [
       "(1350, 10)"
      ]
     },
     "execution_count": 59,
     "metadata": {},
     "output_type": "execute_result"
    }
   ],
   "source": [
    "gdp_df.shape"
   ]
  },
  {
   "cell_type": "code",
   "execution_count": 60,
   "metadata": {},
   "outputs": [
    {
     "data": {
      "text/html": [
       "<div>\n",
       "<style scoped>\n",
       "    .dataframe tbody tr th:only-of-type {\n",
       "        vertical-align: middle;\n",
       "    }\n",
       "\n",
       "    .dataframe tbody tr th {\n",
       "        vertical-align: top;\n",
       "    }\n",
       "\n",
       "    .dataframe thead th {\n",
       "        text-align: right;\n",
       "    }\n",
       "</style>\n",
       "<table border=\"1\" class=\"dataframe\">\n",
       "  <thead>\n",
       "    <tr style=\"text-align: right;\">\n",
       "      <th></th>\n",
       "      <th>Country</th>\n",
       "      <th>Year</th>\n",
       "      <th>Agriculture</th>\n",
       "      <th>Mining</th>\n",
       "      <th>Manufacturing</th>\n",
       "      <th>Construction</th>\n",
       "      <th>Wholesale</th>\n",
       "      <th>Transport</th>\n",
       "      <th>Other</th>\n",
       "      <th>Total</th>\n",
       "    </tr>\n",
       "  </thead>\n",
       "  <tbody>\n",
       "    <tr>\n",
       "      <th>43</th>\n",
       "      <td>Zimbabwe</td>\n",
       "      <td>2013</td>\n",
       "      <td>1.232873e+09</td>\n",
       "      <td>2.927494e+09</td>\n",
       "      <td>1.321837e+09</td>\n",
       "      <td>3.860197e+08</td>\n",
       "      <td>1.555434e+09</td>\n",
       "      <td>1.297901e+09</td>\n",
       "      <td>4.942036e+09</td>\n",
       "      <td>1.228119e+10</td>\n",
       "    </tr>\n",
       "    <tr>\n",
       "      <th>44</th>\n",
       "      <td>Zimbabwe</td>\n",
       "      <td>2014</td>\n",
       "      <td>1.516429e+09</td>\n",
       "      <td>2.839147e+09</td>\n",
       "      <td>1.254541e+09</td>\n",
       "      <td>4.125713e+08</td>\n",
       "      <td>1.594320e+09</td>\n",
       "      <td>1.312692e+09</td>\n",
       "      <td>4.913362e+09</td>\n",
       "      <td>1.252757e+10</td>\n",
       "    </tr>\n",
       "    <tr>\n",
       "      <th>45</th>\n",
       "      <td>Zimbabwe</td>\n",
       "      <td>2015</td>\n",
       "      <td>1.437486e+09</td>\n",
       "      <td>2.823216e+09</td>\n",
       "      <td>1.257050e+09</td>\n",
       "      <td>4.289339e+08</td>\n",
       "      <td>1.654904e+09</td>\n",
       "      <td>1.376874e+09</td>\n",
       "      <td>4.951731e+09</td>\n",
       "      <td>1.261155e+10</td>\n",
       "    </tr>\n",
       "    <tr>\n",
       "      <th>46</th>\n",
       "      <td>Zimbabwe</td>\n",
       "      <td>2016</td>\n",
       "      <td>1.385516e+09</td>\n",
       "      <td>2.778307e+09</td>\n",
       "      <td>1.207039e+09</td>\n",
       "      <td>4.499516e+08</td>\n",
       "      <td>1.781225e+09</td>\n",
       "      <td>1.332445e+09</td>\n",
       "      <td>5.252456e+09</td>\n",
       "      <td>1.290659e+10</td>\n",
       "    </tr>\n",
       "    <tr>\n",
       "      <th>47</th>\n",
       "      <td>Zimbabwe</td>\n",
       "      <td>2017</td>\n",
       "      <td>1.450998e+09</td>\n",
       "      <td>2.740791e+09</td>\n",
       "      <td>1.171353e+09</td>\n",
       "      <td>4.735656e+08</td>\n",
       "      <td>1.863952e+09</td>\n",
       "      <td>1.344891e+09</td>\n",
       "      <td>5.378975e+09</td>\n",
       "      <td>1.317511e+10</td>\n",
       "    </tr>\n",
       "  </tbody>\n",
       "</table>\n",
       "</div>"
      ],
      "text/plain": [
       "     Country  Year   Agriculture        Mining  Manufacturing  Construction  \\\n",
       "43  Zimbabwe  2013  1.232873e+09  2.927494e+09   1.321837e+09  3.860197e+08   \n",
       "44  Zimbabwe  2014  1.516429e+09  2.839147e+09   1.254541e+09  4.125713e+08   \n",
       "45  Zimbabwe  2015  1.437486e+09  2.823216e+09   1.257050e+09  4.289339e+08   \n",
       "46  Zimbabwe  2016  1.385516e+09  2.778307e+09   1.207039e+09  4.499516e+08   \n",
       "47  Zimbabwe  2017  1.450998e+09  2.740791e+09   1.171353e+09  4.735656e+08   \n",
       "\n",
       "       Wholesale     Transport         Other         Total  \n",
       "43  1.555434e+09  1.297901e+09  4.942036e+09  1.228119e+10  \n",
       "44  1.594320e+09  1.312692e+09  4.913362e+09  1.252757e+10  \n",
       "45  1.654904e+09  1.376874e+09  4.951731e+09  1.261155e+10  \n",
       "46  1.781225e+09  1.332445e+09  5.252456e+09  1.290659e+10  \n",
       "47  1.863952e+09  1.344891e+09  5.378975e+09  1.317511e+10  "
      ]
     },
     "execution_count": 60,
     "metadata": {},
     "output_type": "execute_result"
    }
   ],
   "source": [
    "gdp_df.tail()"
   ]
  },
  {
   "cell_type": "code",
   "execution_count": 61,
   "metadata": {},
   "outputs": [],
   "source": [
    "gdp_df.to_csv('quandl_out_long_S-Z.csv')"
   ]
  },
  {
   "cell_type": "code",
   "execution_count": 51,
   "metadata": {},
   "outputs": [
    {
     "data": {
      "text/plain": [
       "(957, 10)"
      ]
     },
     "execution_count": 51,
     "metadata": {},
     "output_type": "execute_result"
    }
   ],
   "source": [
    "saved_df = gdp_df\n",
    "saved_df.shape"
   ]
  },
  {
   "cell_type": "code",
   "execution_count": null,
   "metadata": {},
   "outputs": [],
   "source": []
  }
 ],
 "metadata": {
  "kernelspec": {
   "display_name": "Python 3",
   "language": "python",
   "name": "python3"
  },
  "language_info": {
   "codemirror_mode": {
    "name": "ipython",
    "version": 3
   },
   "file_extension": ".py",
   "mimetype": "text/x-python",
   "name": "python",
   "nbconvert_exporter": "python",
   "pygments_lexer": "ipython3",
   "version": "3.7.1"
  }
 },
 "nbformat": 4,
 "nbformat_minor": 2
}
