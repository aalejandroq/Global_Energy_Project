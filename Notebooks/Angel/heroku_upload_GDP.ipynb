{
 "cells": [
  {
   "cell_type": "code",
   "execution_count": 1,
   "metadata": {},
   "outputs": [],
   "source": [
    "import pandas as pd\n",
    "import sqlalchemy\n",
    "import sqlite3 as sq\n",
    "# from db_key import user, password, port, database, host, url"
   ]
  },
  {
   "cell_type": "code",
   "execution_count": 2,
   "metadata": {},
   "outputs": [],
   "source": [
    "# Set Heroku database credentials\n",
    "user = 'cvkuzmyuti****'\n",
    "password = '*****8b9dbaa9f02508c213880d12db3c0025e92aea837baa7f5f11f60a*****'\n",
    "port = '5432'\n",
    "database = 'd7drrt22cf****'\n",
    "host = 'ec2-23-21-91-183.compute-1.amazonaws.com'\n",
    "url = 'postgres://'+user+':'+password+'@'+host+':'+port+'/'+database\n",
    "\n",
    "engine = sqlalchemy.create_engine(url) # connect to server\n",
    "con = engine.connect()"
   ]
  },
  {
   "cell_type": "code",
   "execution_count": 5,
   "metadata": {},
   "outputs": [],
   "source": [
    "# Read CSV file\n",
    "\n",
    "# file = 'countries_gdp_location.csv'\n",
    "file = '../../Data/GDP_PercentageCSV/countries_gdp_location_short2.csv'"
   ]
  },
  {
   "cell_type": "code",
   "execution_count": 6,
   "metadata": {},
   "outputs": [
    {
     "data": {
      "text/html": [
       "<div>\n",
       "<style scoped>\n",
       "    .dataframe tbody tr th:only-of-type {\n",
       "        vertical-align: middle;\n",
       "    }\n",
       "\n",
       "    .dataframe tbody tr th {\n",
       "        vertical-align: top;\n",
       "    }\n",
       "\n",
       "    .dataframe thead th {\n",
       "        text-align: right;\n",
       "    }\n",
       "</style>\n",
       "<table border=\"1\" class=\"dataframe\">\n",
       "  <thead>\n",
       "    <tr style=\"text-align: right;\">\n",
       "      <th></th>\n",
       "      <th>Country</th>\n",
       "      <th>Year</th>\n",
       "      <th>Agriculture</th>\n",
       "      <th>Mining</th>\n",
       "      <th>Manufacturing</th>\n",
       "      <th>Construction</th>\n",
       "      <th>Wholesale</th>\n",
       "      <th>Transport</th>\n",
       "      <th>Other</th>\n",
       "      <th>Total</th>\n",
       "      <th>Alpha_2_code</th>\n",
       "      <th>Alpha_3_code</th>\n",
       "      <th>Numeric_code</th>\n",
       "      <th>Latitude_ave</th>\n",
       "      <th>Longitude_ave</th>\n",
       "      <th>Continent</th>\n",
       "    </tr>\n",
       "  </thead>\n",
       "  <tbody>\n",
       "    <tr>\n",
       "      <th>0</th>\n",
       "      <td>Algeria</td>\n",
       "      <td>1990</td>\n",
       "      <td>4.931703e+09</td>\n",
       "      <td>4.421435e+10</td>\n",
       "      <td>5.373137e+09</td>\n",
       "      <td>5.451830e+09</td>\n",
       "      <td>7.216058e+09</td>\n",
       "      <td>5.395055e+09</td>\n",
       "      <td>1.674289e+10</td>\n",
       "      <td>8.932503e+10</td>\n",
       "      <td>DZ</td>\n",
       "      <td>DZA</td>\n",
       "      <td>12</td>\n",
       "      <td>28.0</td>\n",
       "      <td>3.0</td>\n",
       "      <td>Africa</td>\n",
       "    </tr>\n",
       "    <tr>\n",
       "      <th>1</th>\n",
       "      <td>Algeria</td>\n",
       "      <td>1991</td>\n",
       "      <td>5.691185e+09</td>\n",
       "      <td>4.370053e+10</td>\n",
       "      <td>5.335525e+09</td>\n",
       "      <td>5.385671e+09</td>\n",
       "      <td>7.020790e+09</td>\n",
       "      <td>5.249851e+09</td>\n",
       "      <td>1.629122e+10</td>\n",
       "      <td>8.867477e+10</td>\n",
       "      <td>DZ</td>\n",
       "      <td>DZA</td>\n",
       "      <td>12</td>\n",
       "      <td>28.0</td>\n",
       "      <td>3.0</td>\n",
       "      <td>Africa</td>\n",
       "    </tr>\n",
       "    <tr>\n",
       "      <th>2</th>\n",
       "      <td>Algeria</td>\n",
       "      <td>1992</td>\n",
       "      <td>5.952980e+09</td>\n",
       "      <td>4.394284e+10</td>\n",
       "      <td>5.036736e+09</td>\n",
       "      <td>5.440488e+09</td>\n",
       "      <td>7.287324e+09</td>\n",
       "      <td>5.452715e+09</td>\n",
       "      <td>1.690051e+10</td>\n",
       "      <td>9.001360e+10</td>\n",
       "      <td>DZ</td>\n",
       "      <td>DZA</td>\n",
       "      <td>12</td>\n",
       "      <td>28.0</td>\n",
       "      <td>3.0</td>\n",
       "      <td>Africa</td>\n",
       "    </tr>\n",
       "    <tr>\n",
       "      <th>3</th>\n",
       "      <td>Algeria</td>\n",
       "      <td>1993</td>\n",
       "      <td>5.732719e+09</td>\n",
       "      <td>4.329234e+10</td>\n",
       "      <td>4.971258e+09</td>\n",
       "      <td>5.354004e+09</td>\n",
       "      <td>7.142387e+09</td>\n",
       "      <td>5.334883e+09</td>\n",
       "      <td>1.657812e+10</td>\n",
       "      <td>8.840571e+10</td>\n",
       "      <td>DZ</td>\n",
       "      <td>DZA</td>\n",
       "      <td>12</td>\n",
       "      <td>28.0</td>\n",
       "      <td>3.0</td>\n",
       "      <td>Africa</td>\n",
       "    </tr>\n",
       "    <tr>\n",
       "      <th>4</th>\n",
       "      <td>Algeria</td>\n",
       "      <td>1994</td>\n",
       "      <td>5.216774e+09</td>\n",
       "      <td>4.246811e+10</td>\n",
       "      <td>4.752523e+09</td>\n",
       "      <td>5.256818e+09</td>\n",
       "      <td>7.352499e+09</td>\n",
       "      <td>5.500362e+09</td>\n",
       "      <td>1.706531e+10</td>\n",
       "      <td>8.761240e+10</td>\n",
       "      <td>DZ</td>\n",
       "      <td>DZA</td>\n",
       "      <td>12</td>\n",
       "      <td>28.0</td>\n",
       "      <td>3.0</td>\n",
       "      <td>Africa</td>\n",
       "    </tr>\n",
       "  </tbody>\n",
       "</table>\n",
       "</div>"
      ],
      "text/plain": [
       "   Country  Year   Agriculture        Mining  Manufacturing  Construction  \\\n",
       "0  Algeria  1990  4.931703e+09  4.421435e+10   5.373137e+09  5.451830e+09   \n",
       "1  Algeria  1991  5.691185e+09  4.370053e+10   5.335525e+09  5.385671e+09   \n",
       "2  Algeria  1992  5.952980e+09  4.394284e+10   5.036736e+09  5.440488e+09   \n",
       "3  Algeria  1993  5.732719e+09  4.329234e+10   4.971258e+09  5.354004e+09   \n",
       "4  Algeria  1994  5.216774e+09  4.246811e+10   4.752523e+09  5.256818e+09   \n",
       "\n",
       "      Wholesale     Transport         Other         Total Alpha_2_code  \\\n",
       "0  7.216058e+09  5.395055e+09  1.674289e+10  8.932503e+10           DZ   \n",
       "1  7.020790e+09  5.249851e+09  1.629122e+10  8.867477e+10           DZ   \n",
       "2  7.287324e+09  5.452715e+09  1.690051e+10  9.001360e+10           DZ   \n",
       "3  7.142387e+09  5.334883e+09  1.657812e+10  8.840571e+10           DZ   \n",
       "4  7.352499e+09  5.500362e+09  1.706531e+10  8.761240e+10           DZ   \n",
       "\n",
       "  Alpha_3_code  Numeric_code  Latitude_ave  Longitude_ave Continent  \n",
       "0          DZA            12          28.0            3.0    Africa  \n",
       "1          DZA            12          28.0            3.0    Africa  \n",
       "2          DZA            12          28.0            3.0    Africa  \n",
       "3          DZA            12          28.0            3.0    Africa  \n",
       "4          DZA            12          28.0            3.0    Africa  "
      ]
     },
     "execution_count": 6,
     "metadata": {},
     "output_type": "execute_result"
    }
   ],
   "source": [
    "# Create a dataframe from csv file data\n",
    "\n",
    "df = pd.read_csv(file)\n",
    "df.head()\n"
   ]
  },
  {
   "cell_type": "code",
   "execution_count": 7,
   "metadata": {},
   "outputs": [
    {
     "data": {
      "text/plain": [
       "(1204, 16)"
      ]
     },
     "execution_count": 7,
     "metadata": {},
     "output_type": "execute_result"
    }
   ],
   "source": [
    "df.shape"
   ]
  },
  {
   "cell_type": "code",
   "execution_count": 8,
   "metadata": {},
   "outputs": [],
   "source": [
    "# Upload dataframe to Postgres SQL table in Heroku database\n",
    "\n",
    "df.to_sql(name=\"gdp_table\", con = engine, if_exists = 'replace', index=False)"
   ]
  },
  {
   "cell_type": "code",
   "execution_count": null,
   "metadata": {},
   "outputs": [],
   "source": []
  },
  {
   "cell_type": "code",
   "execution_count": null,
   "metadata": {},
   "outputs": [],
   "source": []
  }
 ],
 "metadata": {
  "kernelspec": {
   "display_name": "Python 3",
   "language": "python",
   "name": "python3"
  },
  "language_info": {
   "codemirror_mode": {
    "name": "ipython",
    "version": 3
   },
   "file_extension": ".py",
   "mimetype": "text/x-python",
   "name": "python",
   "nbconvert_exporter": "python",
   "pygments_lexer": "ipython3",
   "version": "3.7.1"
  }
 },
 "nbformat": 4,
 "nbformat_minor": 2
}
