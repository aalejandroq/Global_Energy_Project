{
 "cells": [
  {
   "cell_type": "code",
   "execution_count": 1,
   "metadata": {},
   "outputs": [],
   "source": [
    "import pandas as pd\n",
    "import sqlalchemy\n",
    "import sqlite3 as sq\n",
    "# from db_key import user, password, port, database, host, url"
   ]
  },
  {
   "cell_type": "code",
   "execution_count": 2,
   "metadata": {},
   "outputs": [],
   "source": [
    "# Set Heroku database credentials\n",
    "user = 'cvkuzmyutihdti'\n",
    "password = 'ccb658b9dbaa9f02508c213880d12db3c0025e92aea837baa7f5f11f60a073e0'\n",
    "port = '5432'\n",
    "database = 'd7drrt22cf3tcf'\n",
    "host = 'ec2-23-21-91-183.compute-1.amazonaws.com'\n",
    "url = 'postgres://'+user+':'+password+'@'+host+':'+port+'/'+database\n",
    "\n",
    "engine = sqlalchemy.create_engine(url) # connect to server\n",
    "con = engine.connect()"
   ]
  },
  {
   "cell_type": "code",
   "execution_count": 3,
   "metadata": {},
   "outputs": [],
   "source": [
    "# Read CSV file\n",
    "\n",
    "file = 'countries_gdp_location.csv'"
   ]
  },
  {
   "cell_type": "code",
   "execution_count": 4,
   "metadata": {},
   "outputs": [
    {
     "data": {
      "text/html": [
       "<div>\n",
       "<style scoped>\n",
       "    .dataframe tbody tr th:only-of-type {\n",
       "        vertical-align: middle;\n",
       "    }\n",
       "\n",
       "    .dataframe tbody tr th {\n",
       "        vertical-align: top;\n",
       "    }\n",
       "\n",
       "    .dataframe thead th {\n",
       "        text-align: right;\n",
       "    }\n",
       "</style>\n",
       "<table border=\"1\" class=\"dataframe\">\n",
       "  <thead>\n",
       "    <tr style=\"text-align: right;\">\n",
       "      <th></th>\n",
       "      <th>Country</th>\n",
       "      <th>Year</th>\n",
       "      <th>Agriculture</th>\n",
       "      <th>Mining</th>\n",
       "      <th>Manufacturing</th>\n",
       "      <th>Construction</th>\n",
       "      <th>Wholesale</th>\n",
       "      <th>Transport</th>\n",
       "      <th>Other</th>\n",
       "      <th>Total</th>\n",
       "      <th>Alpha_2_code</th>\n",
       "      <th>Alpha_3_code</th>\n",
       "      <th>Numeric_code</th>\n",
       "      <th>Latitude_ave</th>\n",
       "      <th>Longitude_ave</th>\n",
       "    </tr>\n",
       "  </thead>\n",
       "  <tbody>\n",
       "    <tr>\n",
       "      <th>0</th>\n",
       "      <td>Afghanistan</td>\n",
       "      <td>1970</td>\n",
       "      <td>7.988266e+09</td>\n",
       "      <td>1.005687e+09</td>\n",
       "      <td>9.815076e+08</td>\n",
       "      <td>45953601.03</td>\n",
       "      <td>444123690.9</td>\n",
       "      <td>254353096.4</td>\n",
       "      <td>445922527.6</td>\n",
       "      <td>1.116581e+10</td>\n",
       "      <td>AF</td>\n",
       "      <td>AFG</td>\n",
       "      <td>4</td>\n",
       "      <td>33.0</td>\n",
       "      <td>65.0</td>\n",
       "    </tr>\n",
       "    <tr>\n",
       "      <th>1</th>\n",
       "      <td>Afghanistan</td>\n",
       "      <td>1971</td>\n",
       "      <td>7.682982e+09</td>\n",
       "      <td>1.053357e+09</td>\n",
       "      <td>1.028809e+09</td>\n",
       "      <td>45953601.03</td>\n",
       "      <td>403495351.6</td>\n",
       "      <td>231084930.1</td>\n",
       "      <td>405129631.1</td>\n",
       "      <td>1.085081e+10</td>\n",
       "      <td>AF</td>\n",
       "      <td>AFG</td>\n",
       "      <td>4</td>\n",
       "      <td>33.0</td>\n",
       "      <td>65.0</td>\n",
       "    </tr>\n",
       "    <tr>\n",
       "      <th>2</th>\n",
       "      <td>Afghanistan</td>\n",
       "      <td>1972</td>\n",
       "      <td>7.360738e+09</td>\n",
       "      <td>1.101897e+09</td>\n",
       "      <td>1.076111e+09</td>\n",
       "      <td>48372211.60</td>\n",
       "      <td>399290874.0</td>\n",
       "      <td>228676993.0</td>\n",
       "      <td>400908124.0</td>\n",
       "      <td>1.061599e+10</td>\n",
       "      <td>AF</td>\n",
       "      <td>AFG</td>\n",
       "      <td>4</td>\n",
       "      <td>33.0</td>\n",
       "      <td>65.0</td>\n",
       "    </tr>\n",
       "    <tr>\n",
       "      <th>3</th>\n",
       "      <td>Afghanistan</td>\n",
       "      <td>1973</td>\n",
       "      <td>7.903465e+09</td>\n",
       "      <td>1.152177e+09</td>\n",
       "      <td>1.123412e+09</td>\n",
       "      <td>55628043.34</td>\n",
       "      <td>476347278.0</td>\n",
       "      <td>272807795.7</td>\n",
       "      <td>478276630.0</td>\n",
       "      <td>1.146211e+10</td>\n",
       "      <td>AF</td>\n",
       "      <td>AFG</td>\n",
       "      <td>4</td>\n",
       "      <td>33.0</td>\n",
       "      <td>65.0</td>\n",
       "    </tr>\n",
       "    <tr>\n",
       "      <th>4</th>\n",
       "      <td>Afghanistan</td>\n",
       "      <td>1974</td>\n",
       "      <td>8.178457e+09</td>\n",
       "      <td>1.268854e+09</td>\n",
       "      <td>1.237176e+09</td>\n",
       "      <td>55628043.34</td>\n",
       "      <td>504645136.1</td>\n",
       "      <td>330676115.9</td>\n",
       "      <td>504847553.9</td>\n",
       "      <td>1.208028e+10</td>\n",
       "      <td>AF</td>\n",
       "      <td>AFG</td>\n",
       "      <td>4</td>\n",
       "      <td>33.0</td>\n",
       "      <td>65.0</td>\n",
       "    </tr>\n",
       "  </tbody>\n",
       "</table>\n",
       "</div>"
      ],
      "text/plain": [
       "       Country  Year   Agriculture        Mining  Manufacturing  Construction  \\\n",
       "0  Afghanistan  1970  7.988266e+09  1.005687e+09   9.815076e+08   45953601.03   \n",
       "1  Afghanistan  1971  7.682982e+09  1.053357e+09   1.028809e+09   45953601.03   \n",
       "2  Afghanistan  1972  7.360738e+09  1.101897e+09   1.076111e+09   48372211.60   \n",
       "3  Afghanistan  1973  7.903465e+09  1.152177e+09   1.123412e+09   55628043.34   \n",
       "4  Afghanistan  1974  8.178457e+09  1.268854e+09   1.237176e+09   55628043.34   \n",
       "\n",
       "     Wholesale    Transport        Other         Total Alpha_2_code  \\\n",
       "0  444123690.9  254353096.4  445922527.6  1.116581e+10           AF   \n",
       "1  403495351.6  231084930.1  405129631.1  1.085081e+10           AF   \n",
       "2  399290874.0  228676993.0  400908124.0  1.061599e+10           AF   \n",
       "3  476347278.0  272807795.7  478276630.0  1.146211e+10           AF   \n",
       "4  504645136.1  330676115.9  504847553.9  1.208028e+10           AF   \n",
       "\n",
       "  Alpha_3_code  Numeric_code  Latitude_ave  Longitude_ave  \n",
       "0          AFG             4          33.0           65.0  \n",
       "1          AFG             4          33.0           65.0  \n",
       "2          AFG             4          33.0           65.0  \n",
       "3          AFG             4          33.0           65.0  \n",
       "4          AFG             4          33.0           65.0  "
      ]
     },
     "execution_count": 4,
     "metadata": {},
     "output_type": "execute_result"
    }
   ],
   "source": [
    "# Create a dataframe from csv file data\n",
    "\n",
    "df = pd.read_csv(file)\n",
    "df.head()\n"
   ]
  },
  {
   "cell_type": "code",
   "execution_count": 5,
   "metadata": {},
   "outputs": [
    {
     "data": {
      "text/plain": [
       "(8629, 15)"
      ]
     },
     "execution_count": 5,
     "metadata": {},
     "output_type": "execute_result"
    }
   ],
   "source": [
    "df.shape"
   ]
  },
  {
   "cell_type": "code",
   "execution_count": 6,
   "metadata": {},
   "outputs": [],
   "source": [
    "# Upload dataframe to Postgres SQL table in Heroku database\n",
    "\n",
    "df.to_sql(name=\"gdp_table\", con = engine, if_exists = 'replace', index=False)"
   ]
  },
  {
   "cell_type": "code",
   "execution_count": null,
   "metadata": {},
   "outputs": [],
   "source": []
  },
  {
   "cell_type": "code",
   "execution_count": null,
   "metadata": {},
   "outputs": [],
   "source": []
  }
 ],
 "metadata": {
  "kernelspec": {
   "display_name": "Python 3",
   "language": "python",
   "name": "python3"
  },
  "language_info": {
   "codemirror_mode": {
    "name": "ipython",
    "version": 3
   },
   "file_extension": ".py",
   "mimetype": "text/x-python",
   "name": "python",
   "nbconvert_exporter": "python",
   "pygments_lexer": "ipython3",
   "version": "3.7.1"
  }
 },
 "nbformat": 4,
 "nbformat_minor": 2
}
