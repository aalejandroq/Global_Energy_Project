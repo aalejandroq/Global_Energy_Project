{
 "cells": [
  {
   "cell_type": "code",
   "execution_count": 2,
   "metadata": {},
   "outputs": [],
   "source": [
    "import pandas as pd\n",
    "import sqlalchemy\n",
    "import sqlite3 as sq"
   ]
  },
  {
   "cell_type": "code",
   "execution_count": 27,
   "metadata": {},
   "outputs": [],
   "source": [
    "# Read CSV file\n",
    "\n",
    "# file = '../../Data/EnergyCSV/CO2 emissions from fuel combus.csv'\n",
    "# file = '../../Data/EnergyCSV/Total energy consumption.csv'\n",
    "# file = '../../Data/EnergyCSV/Coal and lignite domestic cons.csv'\n",
    "# file = '../../Data/EnergyCSV/Natural gas domestic consumpti.csv'\n",
    "# file = '../../Data/EnergyCSV/Oil products domestic consumpt.csv'\n",
    "# file = '../../Data/EnergyCSV/Electricity domestic consumpti.csv'\n",
    "# file = '../../Data/EnergyCSV/Share of renewables in electri.csv'\n",
    "# file = '../../Data/GDP_PercentageCSV/countries_gdp_location_short.csv'\n",
    "file = '../../Data/GDP_PercentageCSV/bubble.csv'\n"
   ]
  },
  {
   "cell_type": "code",
   "execution_count": 28,
   "metadata": {},
   "outputs": [
    {
     "data": {
      "text/html": [
       "<div>\n",
       "<style scoped>\n",
       "    .dataframe tbody tr th:only-of-type {\n",
       "        vertical-align: middle;\n",
       "    }\n",
       "\n",
       "    .dataframe tbody tr th {\n",
       "        vertical-align: top;\n",
       "    }\n",
       "\n",
       "    .dataframe thead th {\n",
       "        text-align: right;\n",
       "    }\n",
       "</style>\n",
       "<table border=\"1\" class=\"dataframe\">\n",
       "  <thead>\n",
       "    <tr style=\"text-align: right;\">\n",
       "      <th></th>\n",
       "      <th>country</th>\n",
       "      <th>year</th>\n",
       "      <th>emissions</th>\n",
       "      <th>continent</th>\n",
       "      <th>consumption</th>\n",
       "      <th>gdp</th>\n",
       "    </tr>\n",
       "  </thead>\n",
       "  <tbody>\n",
       "    <tr>\n",
       "      <th>0</th>\n",
       "      <td>Algeria</td>\n",
       "      <td>1990</td>\n",
       "      <td>52.98</td>\n",
       "      <td>Africa</td>\n",
       "      <td>22</td>\n",
       "      <td>8.932503e+10</td>\n",
       "    </tr>\n",
       "    <tr>\n",
       "      <th>1</th>\n",
       "      <td>Algeria</td>\n",
       "      <td>1991</td>\n",
       "      <td>57.15</td>\n",
       "      <td>Africa</td>\n",
       "      <td>23</td>\n",
       "      <td>8.867477e+10</td>\n",
       "    </tr>\n",
       "    <tr>\n",
       "      <th>2</th>\n",
       "      <td>Algeria</td>\n",
       "      <td>1992</td>\n",
       "      <td>57.26</td>\n",
       "      <td>Africa</td>\n",
       "      <td>24</td>\n",
       "      <td>9.001360e+10</td>\n",
       "    </tr>\n",
       "    <tr>\n",
       "      <th>3</th>\n",
       "      <td>Algeria</td>\n",
       "      <td>1993</td>\n",
       "      <td>59.20</td>\n",
       "      <td>Africa</td>\n",
       "      <td>24</td>\n",
       "      <td>8.840571e+10</td>\n",
       "    </tr>\n",
       "    <tr>\n",
       "      <th>4</th>\n",
       "      <td>Algeria</td>\n",
       "      <td>1994</td>\n",
       "      <td>56.35</td>\n",
       "      <td>Africa</td>\n",
       "      <td>23</td>\n",
       "      <td>8.761240e+10</td>\n",
       "    </tr>\n",
       "  </tbody>\n",
       "</table>\n",
       "</div>"
      ],
      "text/plain": [
       "   country  year  emissions continent  consumption           gdp\n",
       "0  Algeria  1990      52.98    Africa           22  8.932503e+10\n",
       "1  Algeria  1991      57.15    Africa           23  8.867477e+10\n",
       "2  Algeria  1992      57.26    Africa           24  9.001360e+10\n",
       "3  Algeria  1993      59.20    Africa           24  8.840571e+10\n",
       "4  Algeria  1994      56.35    Africa           23  8.761240e+10"
      ]
     },
     "execution_count": 28,
     "metadata": {},
     "output_type": "execute_result"
    }
   ],
   "source": [
    "# Create a dataframe from csv file data\n",
    "# Transform and clean dataframe\n",
    "\n",
    "df = pd.read_csv(file)\n",
    "\n",
    "# transform steps are only needed for energy tables\n",
    "###################################\n",
    "# df = df.transpose()\n",
    "# df = df.reset_index()\n",
    "# df.columns = df.iloc[0]\n",
    "# df = df.reindex(df.index.drop(0))\n",
    "# df = df.rename(columns = {'Unnamed: 0':'Year'})\n",
    "# df = df.reindex(df.index.drop(29))\n",
    "# df = df.reindex(df.index.drop(30))\n",
    "###################################\n",
    "\n",
    "df.head()\n"
   ]
  },
  {
   "cell_type": "code",
   "execution_count": 29,
   "metadata": {},
   "outputs": [],
   "source": [
    "### Create a sqlite file from a dataframe\n",
    "\n",
    "sql_data = 'energy_db.sqlite' #- Creates DB names SQLite\n",
    "conn = sq.connect(sql_data)\n",
    "cur = conn.cursor()\n",
    "\n",
    "# - writes the pd.df to SQLIte DB\n",
    "# df.to_sql('emissions', conn, if_exists='replace', index=True)\n",
    "# df.to_sql('total_consumption', conn, if_exists='replace', index=True)\n",
    "# df.to_sql('coal_consumption', conn, if_exists='replace', index=True)\n",
    "# df.to_sql('ng_consumption', conn, if_exists='replace', index=True)\n",
    "# df.to_sql('oil_consumption', conn, if_exists='replace', index=True)\n",
    "# df.to_sql('electricity_consumption', conn, if_exists='replace', index=True)\n",
    "# df.to_sql('electricity_renewables_share', conn, if_exists='replace', index=True)\n",
    "# df.to_sql('gdp_table', conn, if_exists='replace', index=True)\n",
    "df.to_sql('bubble_table', conn, if_exists='replace', index=True)\n",
    "\n",
    "conn.commit()\n",
    "conn.close()"
   ]
  },
  {
   "cell_type": "code",
   "execution_count": null,
   "metadata": {},
   "outputs": [],
   "source": []
  }
 ],
 "metadata": {
  "kernelspec": {
   "display_name": "Python 3",
   "language": "python",
   "name": "python3"
  },
  "language_info": {
   "codemirror_mode": {
    "name": "ipython",
    "version": 3
   },
   "file_extension": ".py",
   "mimetype": "text/x-python",
   "name": "python",
   "nbconvert_exporter": "python",
   "pygments_lexer": "ipython3",
   "version": "3.7.1"
  }
 },
 "nbformat": 4,
 "nbformat_minor": 2
}
