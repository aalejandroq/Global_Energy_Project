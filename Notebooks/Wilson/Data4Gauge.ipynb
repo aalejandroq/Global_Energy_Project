{
 "cells": [
  {
   "cell_type": "code",
   "execution_count": 1,
   "metadata": {},
   "outputs": [],
   "source": [
    "import pandas as pd\n",
    "import numpy as np\n",
    "import matplotlib.pyplot as plt\n",
    "# from pandas import ExcelWriter\n",
    "# from pandas import ExcelFile\n",
    "import sqlalchemy\n",
    "# import sqlite3 as sq\n",
    "import os"
   ]
  },
  {
   "cell_type": "code",
   "execution_count": 2,
   "metadata": {},
   "outputs": [
    {
     "name": "stdout",
     "output_type": "stream",
     "text": [
      "GlobalEnergy\n"
     ]
    }
   ],
   "source": [
    "# print (os.environ)\n",
    "if not os.environ.get('DYNO'):\n",
    "    import config\n",
    "    print(config.name)\n",
    "    \n",
    "if os.environ.get(\"DATABASE_URL\"):\n",
    "    url=os.environ[\"DATABASE_URL\"]\n",
    "else:\n",
    "    url = config.url\n",
    "\n",
    "engine= sqlalchemy.create_engine(url)"
   ]
  },
  {
   "cell_type": "code",
   "execution_count": 3,
   "metadata": {},
   "outputs": [],
   "source": [
    "total_consumption_df = pd.read_sql(\"SELECT * FROM total_consumption\", engine)\n",
    "emissions_df = pd.read_sql(\"SELECT * FROM emissions\", engine)\n",
    "coal_consumption_df = pd.read_sql(\"SELECT * FROM coal_consumption\", engine)\n",
    "electricity_consumption_df = pd.read_sql(\"SELECT * FROM electricity_consumption\", engine)\n",
    "ng_consumption_df = pd.read_sql(\"SELECT * FROM ng_consumption\", engine)\n",
    "oil_consumption_df = pd.read_sql(\"SELECT * FROM oil_consumption\", engine)\n",
    "electricity_renewables_df = pd.read_sql(\"SELECT * FROM electricity_renewables_share\", engine)\n",
    "gdp_df = pd.read_sql(\"SELECT * FROM gdp_table\", engine)"
   ]
  },
  {
   "cell_type": "code",
   "execution_count": 4,
   "metadata": {},
   "outputs": [
    {
     "data": {
      "text/html": [
       "<div>\n",
       "<style scoped>\n",
       "    .dataframe tbody tr th:only-of-type {\n",
       "        vertical-align: middle;\n",
       "    }\n",
       "\n",
       "    .dataframe tbody tr th {\n",
       "        vertical-align: top;\n",
       "    }\n",
       "\n",
       "    .dataframe thead th {\n",
       "        text-align: right;\n",
       "    }\n",
       "</style>\n",
       "<table border=\"1\" class=\"dataframe\">\n",
       "  <thead>\n",
       "    <tr style=\"text-align: right;\">\n",
       "      <th></th>\n",
       "      <th>Year</th>\n",
       "      <th>World</th>\n",
       "      <th>OECD</th>\n",
       "      <th>G7</th>\n",
       "      <th>BRICS</th>\n",
       "      <th>Europe</th>\n",
       "      <th>European Union</th>\n",
       "      <th>Belgium</th>\n",
       "      <th>Czech Rep.</th>\n",
       "      <th>France</th>\n",
       "      <th>...</th>\n",
       "      <th>Africa</th>\n",
       "      <th>Algeria</th>\n",
       "      <th>Egypt</th>\n",
       "      <th>Nigeria</th>\n",
       "      <th>South Africa</th>\n",
       "      <th>Middle-East</th>\n",
       "      <th>Iran</th>\n",
       "      <th>Kuwait</th>\n",
       "      <th>Saudi Arabia</th>\n",
       "      <th>United Arab Emirates</th>\n",
       "    </tr>\n",
       "  </thead>\n",
       "  <tbody>\n",
       "    <tr>\n",
       "      <th>27</th>\n",
       "      <td>2017</td>\n",
       "      <td>14126</td>\n",
       "      <td>5363</td>\n",
       "      <td>3804</td>\n",
       "      <td>5214</td>\n",
       "      <td>1857</td>\n",
       "      <td>1611</td>\n",
       "      <td>56</td>\n",
       "      <td>44</td>\n",
       "      <td>243</td>\n",
       "      <td>...</td>\n",
       "      <td>805</td>\n",
       "      <td>53</td>\n",
       "      <td>86</td>\n",
       "      <td>140</td>\n",
       "      <td>140</td>\n",
       "      <td>786</td>\n",
       "      <td>253</td>\n",
       "      <td>35</td>\n",
       "      <td>224</td>\n",
       "      <td>74</td>\n",
       "    </tr>\n",
       "  </tbody>\n",
       "</table>\n",
       "<p>1 rows × 59 columns</p>\n",
       "</div>"
      ],
      "text/plain": [
       "    Year  World  OECD    G7  BRICS  Europe  European Union  Belgium  \\\n",
       "27  2017  14126  5363  3804   5214    1857            1611       56   \n",
       "\n",
       "    Czech Rep.  France  ...  Africa  Algeria  Egypt  Nigeria  South Africa  \\\n",
       "27          44     243  ...     805       53     86      140           140   \n",
       "\n",
       "    Middle-East  Iran  Kuwait  Saudi Arabia  United Arab Emirates  \n",
       "27          786   253      35           224                    74  \n",
       "\n",
       "[1 rows x 59 columns]"
      ]
     },
     "execution_count": 4,
     "metadata": {},
     "output_type": "execute_result"
    }
   ],
   "source": [
    "df = total_consumption_df.copy()\n",
    "df = df.loc[df[\"Year\"]==max(df[\"Year\"])]\n",
    "df"
   ]
  },
  {
   "cell_type": "code",
   "execution_count": 5,
   "metadata": {},
   "outputs": [],
   "source": [
    "def funRankCountry(df_data,enertype,list_Col_NOT,country):\n",
    "    df = df_data.copy()\n",
    "    df = df.loc[df[\"Year\"]==max(df[\"Year\"])]\n",
    "    list_Col_2Ext = [x for x in df.columns if x not in list_Col_NOT]\n",
    "    \n",
    "    list_dict = []\n",
    "    for x in list_Col_2Ext:\n",
    "        dict_x = {'Country': x, 'Type' : enertype,'Value': df[x].values[0]}\n",
    "        list_dict.append(dict_x)\n",
    "        \n",
    "    list_dict_sorted = sorted(list_dict, key=lambda k: k['Value'], reverse=True)\n",
    "    for i in range(len(list_dict_sorted)):\n",
    "        i += 1\n",
    "        list_dict_sorted[i-1]['Rank'] = i\n",
    "        \n",
    "    list_dict_x = [dict_x for dict_x in list_dict_sorted if dict_x['Country'] == country]\n",
    "        \n",
    "    return list_dict_x[0]"
   ]
  },
  {
   "cell_type": "code",
   "execution_count": 6,
   "metadata": {},
   "outputs": [],
   "source": [
    "def funPreprocGDP(df_GDP,df_Name,list_Col_NOT):\n",
    "    list_countries = list(df_GDP[\"Country\"].unique())\n",
    "    count = 0\n",
    "    for country in list_countries:\n",
    "        df_country = df_GDP.loc[df_GDP[\"Country\"]==country][[\"Year\",\"Total\"]]\n",
    "        df_country.rename(columns={'Total': country}, inplace=True)\n",
    "        if count == 0:\n",
    "            df_final = df_country\n",
    "            count += 1\n",
    "        else:\n",
    "            df_final = pd.merge(df_final, df_country, on='Year', how='inner')\n",
    "            \n",
    "    df = df_Name.copy()    \n",
    "    list_Col_2Ext = [x for x in df.columns if x not in list_Col_NOT]    \n",
    "    list_Col_GDP = list(df_final.columns)\n",
    "    \n",
    "    new_list_GDP = []\n",
    "    old_list_GDP = []\n",
    "    for x in list_Col_2Ext:\n",
    "        for y in list_Col_GDP:\n",
    "            if (x in y) & (len(y)>len(x)):\n",
    "                new_list_GDP.append(x)\n",
    "                old_list_GDP.append(y)\n",
    "\n",
    "    for i in range(len(new_list_GDP)):\n",
    "        df_final = df_final.rename(columns={old_list_GDP[i]: new_list_GDP[i]})\n",
    "    \n",
    "            \n",
    "    return df_final"
   ]
  },
  {
   "cell_type": "code",
   "execution_count": 7,
   "metadata": {},
   "outputs": [
    {
     "name": "stdout",
     "output_type": "stream",
     "text": [
      "{'Country': 'China', 'Type': 'Total', 'Value': 3105, 'Rank': 1}\n",
      "{'Country': 'China', 'Type': 'Coal', 'Value': 3607, 'Rank': 1}\n",
      "{'Country': 'China', 'Type': 'Electricity', 'Value': 5683, 'Rank': 1}\n",
      "{'Country': 'China', 'Type': 'Natural Gas', 'Value': 238, 'Rank': 3}\n",
      "{'Country': 'China', 'Type': 'Oil', 'Value': 554, 'Rank': 2}\n",
      "{'Country': 'China', 'Type': 'Electr Renew', 'Value': 25.97, 'Rank': 17}\n",
      "{'Country': 'China', 'Type': 'GDP', 'Value': 10200000000000.0, 'Rank': 2}\n"
     ]
    }
   ],
   "source": [
    "country = \"China\"\n",
    "list_Col_NOT = [\"Year\",\"World\",\"OECD\",\"G7\",\"BRICS\",\"Europe\",\"European Union\",\"Africa\",\"Middle-East\",\"CIS\", \\\n",
    "                \"Latin America\",\"America\",\"North America\",\"Asia\",\"Pacific\"]\n",
    "print(funRankCountry(total_consumption_df,\"Total\",list_Col_NOT,country))\n",
    "print(funRankCountry(coal_consumption_df,\"Coal\",list_Col_NOT,country))\n",
    "print(funRankCountry(electricity_consumption_df,\"Electricity\",list_Col_NOT,country))\n",
    "print(funRankCountry(ng_consumption_df,\"Natural Gas\",list_Col_NOT,country))\n",
    "print(funRankCountry(oil_consumption_df,\"Oil\",list_Col_NOT,country))\n",
    "print(funRankCountry(electricity_renewables_df,\"Electr Renew\",list_Col_NOT,country))\n",
    "df_GDP = funPreprocGDP(gdp_df,total_consumption_df,list_Col_NOT)\n",
    "print(funRankCountry(df_GDP,\"GDP\",list_Col_NOT,country))"
   ]
  },
  {
   "cell_type": "code",
   "execution_count": 8,
   "metadata": {},
   "outputs": [
    {
     "data": {
      "text/plain": [
       "{'Total': 2,\n",
       " 'Coal': 3,\n",
       " 'Electricity': 2,\n",
       " 'Natural Gas': 1,\n",
       " 'Oil': 1,\n",
       " 'Electr Renew': 22,\n",
       " 'GDP': 1}"
      ]
     },
     "execution_count": 8,
     "metadata": {},
     "output_type": "execute_result"
    }
   ],
   "source": [
    "country = \"United States\"\n",
    "list_Col_NOT = [\"Year\",\"World\",\"OECD\",\"G7\",\"BRICS\",\"Europe\",\"European Union\",\"Africa\",\"Middle-East\",\"CIS\", \\\n",
    "                \"Latin America\",\"America\",\"North America\",\"Asia\",\"Pacific\"]\n",
    "df_GDP = funPreprocGDP(gdp_df,total_consumption_df,list_Col_NOT)\n",
    "dict_final ={\n",
    "    \"Total\" : funRankCountry(total_consumption_df,\"Total\",list_Col_NOT,country)[\"Rank\"],\n",
    "    \"Coal\" : funRankCountry(coal_consumption_df,\"Coal\",list_Col_NOT,country)[\"Rank\"],\n",
    "    \"Electricity\" : funRankCountry(electricity_consumption_df,\"Electricity\",list_Col_NOT,country)[\"Rank\"],\n",
    "    \"Natural Gas\" : funRankCountry(ng_consumption_df,\"Natural Gas\",list_Col_NOT,country)[\"Rank\"],\n",
    "    \"Oil\" : funRankCountry(oil_consumption_df,\"Oil\",list_Col_NOT,country)[\"Rank\"],\n",
    "    \"Electr Renew\": funRankCountry(electricity_renewables_df,\"Electr Renew\",list_Col_NOT,country)[\"Rank\"],\n",
    "    \"GDP\" : funRankCountry(df_GDP,\"GDP\",list_Col_NOT,country)[\"Rank\"]\n",
    "}\n",
    "dict_final"
   ]
  },
  {
   "cell_type": "code",
   "execution_count": null,
   "metadata": {},
   "outputs": [],
   "source": []
  }
 ],
 "metadata": {
  "kernelspec": {
   "display_name": "Python 3",
   "language": "python",
   "name": "python3"
  },
  "language_info": {
   "codemirror_mode": {
    "name": "ipython",
    "version": 3
   },
   "file_extension": ".py",
   "mimetype": "text/x-python",
   "name": "python",
   "nbconvert_exporter": "python",
   "pygments_lexer": "ipython3",
   "version": "3.7.3"
  }
 },
 "nbformat": 4,
 "nbformat_minor": 2
}
