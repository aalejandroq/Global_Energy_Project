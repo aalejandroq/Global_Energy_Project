{
 "cells": [
  {
   "cell_type": "code",
   "execution_count": 3,
   "metadata": {},
   "outputs": [],
   "source": [
    "import pandas as pd\n",
    "import numpy as np\n",
    "import matplotlib.pyplot as plt\n",
    "# from pandas import ExcelWriter\n",
    "# from pandas import ExcelFile\n",
    "import sqlalchemy\n",
    "# import sqlite3 as sq\n",
    "import os"
   ]
  },
  {
   "cell_type": "code",
   "execution_count": 4,
   "metadata": {},
   "outputs": [
    {
     "name": "stdout",
     "output_type": "stream",
     "text": [
      "GlobalEnergy\n"
     ]
    }
   ],
   "source": [
    "# print (os.environ)\n",
    "if not os.environ.get('DYNO'):\n",
    "    import config\n",
    "    print(config.name)\n",
    "    \n",
    "if os.environ.get(\"DATABASE_URL\"):\n",
    "    url=os.environ[\"DATABASE_URL\"]\n",
    "else:\n",
    "    url = config.url\n",
    "\n",
    "engine= sqlalchemy.create_engine(url)"
   ]
  },
  {
   "cell_type": "code",
   "execution_count": 6,
   "metadata": {},
   "outputs": [],
   "source": [
    "total_consumption_df = pd.read_sql(\"SELECT * FROM total_consumption\", engine)\n",
    "emissions_df = pd.read_sql(\"SELECT * FROM emissions\", engine)\n",
    "coal_consumption_df = pd.read_sql(\"SELECT * FROM coal_consumption\", engine)\n",
    "electricity_consumption_df = pd.read_sql(\"SELECT * FROM electricity_consumption\", engine)\n",
    "ng_consumption_df = pd.read_sql(\"SELECT * FROM ng_consumption\", engine)\n",
    "oil_consumption_df = pd.read_sql(\"SELECT * FROM oil_consumption\", engine)\n",
    "electricity_renewables_df = pd.read_sql(\"SELECT * FROM electricity_renewables_share\", engine)\n",
    "gdp_df = pd.read_sql(\"SELECT * FROM gdp_table\", engine)"
   ]
  },
  {
   "cell_type": "code",
   "execution_count": 57,
   "metadata": {},
   "outputs": [
    {
     "data": {
      "text/html": [
       "<div>\n",
       "<style scoped>\n",
       "    .dataframe tbody tr th:only-of-type {\n",
       "        vertical-align: middle;\n",
       "    }\n",
       "\n",
       "    .dataframe tbody tr th {\n",
       "        vertical-align: top;\n",
       "    }\n",
       "\n",
       "    .dataframe thead th {\n",
       "        text-align: right;\n",
       "    }\n",
       "</style>\n",
       "<table border=\"1\" class=\"dataframe\">\n",
       "  <thead>\n",
       "    <tr style=\"text-align: right;\">\n",
       "      <th></th>\n",
       "      <th>Year</th>\n",
       "      <th>World</th>\n",
       "      <th>OECD</th>\n",
       "      <th>G7</th>\n",
       "      <th>BRICS</th>\n",
       "      <th>Europe</th>\n",
       "      <th>European Union</th>\n",
       "      <th>Belgium</th>\n",
       "      <th>Czech Rep.</th>\n",
       "      <th>France</th>\n",
       "      <th>...</th>\n",
       "      <th>Africa</th>\n",
       "      <th>Algeria</th>\n",
       "      <th>Egypt</th>\n",
       "      <th>Nigeria</th>\n",
       "      <th>South Africa</th>\n",
       "      <th>Middle-East</th>\n",
       "      <th>Iran</th>\n",
       "      <th>Kuwait</th>\n",
       "      <th>Saudi Arabia</th>\n",
       "      <th>United Arab Emirates</th>\n",
       "    </tr>\n",
       "  </thead>\n",
       "  <tbody>\n",
       "    <tr>\n",
       "      <th>27</th>\n",
       "      <td>2017</td>\n",
       "      <td>14126</td>\n",
       "      <td>5363</td>\n",
       "      <td>3804</td>\n",
       "      <td>5214</td>\n",
       "      <td>1857</td>\n",
       "      <td>1611</td>\n",
       "      <td>56</td>\n",
       "      <td>44</td>\n",
       "      <td>243</td>\n",
       "      <td>...</td>\n",
       "      <td>805</td>\n",
       "      <td>53</td>\n",
       "      <td>86</td>\n",
       "      <td>140</td>\n",
       "      <td>140</td>\n",
       "      <td>786</td>\n",
       "      <td>253</td>\n",
       "      <td>35</td>\n",
       "      <td>224</td>\n",
       "      <td>74</td>\n",
       "    </tr>\n",
       "  </tbody>\n",
       "</table>\n",
       "<p>1 rows × 59 columns</p>\n",
       "</div>"
      ],
      "text/plain": [
       "    Year  World  OECD    G7  BRICS  Europe  European Union  Belgium  \\\n",
       "27  2017  14126  5363  3804   5214    1857            1611       56   \n",
       "\n",
       "    Czech Rep.  France  ...  Africa  Algeria  Egypt  Nigeria  South Africa  \\\n",
       "27          44     243  ...     805       53     86      140           140   \n",
       "\n",
       "    Middle-East  Iran  Kuwait  Saudi Arabia  United Arab Emirates  \n",
       "27          786   253      35           224                    74  \n",
       "\n",
       "[1 rows x 59 columns]"
      ]
     },
     "execution_count": 57,
     "metadata": {},
     "output_type": "execute_result"
    }
   ],
   "source": [
    "df = total_consumption_df.copy()\n",
    "df = df.loc[df[\"Year\"]==max(df[\"Year\"])]\n",
    "df"
   ]
  },
  {
   "cell_type": "code",
   "execution_count": 58,
   "metadata": {},
   "outputs": [],
   "source": [
    "list_Col_NOT = [\"Year\",\"World\",\"OECD\",\"G7\",\"BRICS\",\"Europe\",\"European Union\",\"Africa\",\"Middle-East\",\"CIS\", \\\n",
    "                \"Latin America\",\"America\",\"North America\",\"Asia\",\"Pacific\"]"
   ]
  },
  {
   "cell_type": "code",
   "execution_count": 61,
   "metadata": {},
   "outputs": [
    {
     "data": {
      "text/plain": [
       "[{'Country': 'China', 'Value': 3105, 'Rank': 1}]"
      ]
     },
     "execution_count": 61,
     "metadata": {},
     "output_type": "execute_result"
    }
   ],
   "source": [
    "list_Col_2Ext = [x for x in df.columns if x not in list_Col_NOT]\n",
    "# list_Col_2Ext\n",
    "list_dict = []\n",
    "for x in list_Col_2Ext:\n",
    "    dict_x = {'Country': x, 'Value': df[x].values[0]}\n",
    "    list_dict.append(dict_x)\n",
    "list_dict_sorted = sorted(list_dict, key=lambda k: k['Value'], reverse=True)\n",
    "for i in range(len(list_dict_sorted)):\n",
    "    i += 1\n",
    "    list_dict_sorted[i-1]['Rank'] = i\n",
    "    \n",
    "def search_dict(key, value, list_of_dict):\n",
    "    return [dict_x for dict_x in list_of_dict if dict_x[key] == value]\n",
    "\n",
    "search_dict(\"Country\", \"China\", list_dict_sorted)"
   ]
  },
  {
   "cell_type": "code",
   "execution_count": 66,
   "metadata": {},
   "outputs": [],
   "source": [
    "def funRankCountry(df_data,list_Col_NOT,country):\n",
    "    df = df_data.copy()\n",
    "    df = df.loc[df[\"Year\"]==max(df[\"Year\"])]\n",
    "    list_Col_2Ext = [x for x in df.columns if x not in list_Col_NOT]\n",
    "    \n",
    "    list_dict = []\n",
    "    for x in list_Col_2Ext:\n",
    "        dict_x = {'Country': x, 'Value': df[x].values[0]}\n",
    "        list_dict.append(dict_x)\n",
    "        \n",
    "    list_dict_sorted = sorted(list_dict, key=lambda k: k['Value'], reverse=True)\n",
    "    for i in range(len(list_dict_sorted)):\n",
    "        i += 1\n",
    "        list_dict_sorted[i-1]['Rank'] = i\n",
    "        \n",
    "    return [dict_x for dict_x in list_dict_sorted if dict_x['Country'] == country]"
   ]
  },
  {
   "cell_type": "code",
   "execution_count": null,
   "metadata": {},
   "outputs": [],
   "source": [
    "def PreprocGDP(df_GDP):\n",
    "    list(df_GDP[\"Country\"].unique())"
   ]
  },
  {
   "cell_type": "code",
   "execution_count": 69,
   "metadata": {},
   "outputs": [
    {
     "name": "stdout",
     "output_type": "stream",
     "text": [
      "[{'Country': 'United States', 'Value': 2201, 'Rank': 2}]\n"
     ]
    }
   ],
   "source": [
    "xx = funRankCountry(total_consumption_df,list_Col_NOT,\"United States\")\n",
    "print(xx)"
   ]
  },
  {
   "cell_type": "code",
   "execution_count": 88,
   "metadata": {},
   "outputs": [
    {
     "name": "stdout",
     "output_type": "stream",
     "text": [
      "[{'Country': 'United States', 'Value': 2201, 'Rank': 2}]\n",
      "[{'Country': 'United States', 'Value': 649, 'Rank': 3}]\n",
      "[{'Country': 'United States', 'Value': 3808, 'Rank': 2}]\n",
      "[{'Country': 'United States', 'Value': 762, 'Rank': 1}]\n",
      "[{'Country': 'United States', 'Value': 773, 'Rank': 1}]\n",
      "[{'Country': 'United States', 'Value': 17.66, 'Rank': 22}]\n",
      "None\n"
     ]
    }
   ],
   "source": [
    "# emissions_df\n",
    "# coal_consumption_df\n",
    "# electricity_consumption_df\n",
    "# ng_consumption_df\n",
    "# oil_consumption_df\n",
    "# electricity_renewables_df\n",
    "# gdp_df\n",
    "print(funRankCountry(total_consumption_df,list_Col_NOT,\"United States\"))\n",
    "print(funRankCountry(coal_consumption_df,list_Col_NOT,\"United States\"))\n",
    "print(funRankCountry(electricity_consumption_df,list_Col_NOT,\"United States\"))\n",
    "print(funRankCountry(ng_consumption_df,list_Col_NOT,\"United States\"))\n",
    "print(funRankCountry(oil_consumption_df,list_Col_NOT,\"United States\"))\n",
    "print(funRankCountry(electricity_renewables_df,list_Col_NOT,\"United States\"))\n",
    "# print(funRankCountry(gdp_df,list_Col_NOT,\"United States\"))\n",
    "list_year = list(gdp_df.loc[gdp_df[\"Country\"]==\"China\",\"Year\"].unique())\n",
    "list_year = [int(i) for i in list_year]\n",
    "print(list_year.sort())"
   ]
  },
  {
   "cell_type": "code",
   "execution_count": null,
   "metadata": {},
   "outputs": [],
   "source": [
    "list_countries = list(gdp_df[\"Country\"].unique())\n",
    "list_dict = []\n",
    "dict_x = {'Year': list(gdp_df.loc[\"Year\"].unique())}\n",
    "for country in list_countries:    \n",
    "    dict_x[country] = "
   ]
  }
 ],
 "metadata": {
  "kernelspec": {
   "display_name": "Python 3",
   "language": "python",
   "name": "python3"
  },
  "language_info": {
   "codemirror_mode": {
    "name": "ipython",
    "version": 3
   },
   "file_extension": ".py",
   "mimetype": "text/x-python",
   "name": "python",
   "nbconvert_exporter": "python",
   "pygments_lexer": "ipython3",
   "version": "3.7.3"
  }
 },
 "nbformat": 4,
 "nbformat_minor": 2
}
