{
 "cells": [
  {
   "cell_type": "code",
   "execution_count": 1,
   "metadata": {},
   "outputs": [],
   "source": [
    "import pandas as pd\n",
    "import matplotlib.pyplot as plt\n",
    "from pandas import ExcelWriter\n",
    "from pandas import ExcelFile\n",
    "import sqlalchemy\n",
    "import sqlite3 as sq\n",
    "import os\n",
    "from db_key import user, password, port, database, host"
   ]
  },
  {
   "cell_type": "code",
   "execution_count": 2,
   "metadata": {},
   "outputs": [
    {
     "data": {
      "text/plain": [
       "['GDP_Brazil.csv',\n",
       " 'GDP_China.csv',\n",
       " 'GDP_Germany.csv',\n",
       " 'GDP_Russia.csv',\n",
       " 'GDP_USA.csv']"
      ]
     },
     "execution_count": 2,
     "metadata": {},
     "output_type": "execute_result"
    }
   ],
   "source": [
    "path = '../../Data/GDP_PercentageCSV'\n",
    "FileNames = os.listdir(path)\n",
    "FileNames"
   ]
  },
  {
   "cell_type": "code",
   "execution_count": 3,
   "metadata": {},
   "outputs": [],
   "source": [
    "url = 'postgres://'+user+':'+password+'@'+host+':'+port+'/'+database\n",
    "\n",
    "engine = sqlalchemy.create_engine(url) # connect to server\n",
    "con = engine.connect()"
   ]
  },
  {
   "cell_type": "code",
   "execution_count": 12,
   "metadata": {},
   "outputs": [
    {
     "data": {
      "text/html": [
       "<div>\n",
       "<style scoped>\n",
       "    .dataframe tbody tr th:only-of-type {\n",
       "        vertical-align: middle;\n",
       "    }\n",
       "\n",
       "    .dataframe tbody tr th {\n",
       "        vertical-align: top;\n",
       "    }\n",
       "\n",
       "    .dataframe thead th {\n",
       "        text-align: right;\n",
       "    }\n",
       "</style>\n",
       "<table border=\"1\" class=\"dataframe\">\n",
       "  <thead>\n",
       "    <tr style=\"text-align: right;\">\n",
       "      <th></th>\n",
       "      <th>Agriculture_hunting_forestry_fishing</th>\n",
       "      <th>Mining_Manufacturing</th>\n",
       "      <th>Manufacturing</th>\n",
       "      <th>Construction</th>\n",
       "      <th>Wholesale_retail_restaurants_hotels</th>\n",
       "      <th>Transport_storage_communication</th>\n",
       "      <th>Other</th>\n",
       "      <th>Total</th>\n",
       "    </tr>\n",
       "    <tr>\n",
       "      <th>Year</th>\n",
       "      <th></th>\n",
       "      <th></th>\n",
       "      <th></th>\n",
       "      <th></th>\n",
       "      <th></th>\n",
       "      <th></th>\n",
       "      <th></th>\n",
       "      <th></th>\n",
       "    </tr>\n",
       "  </thead>\n",
       "  <tbody>\n",
       "    <tr>\n",
       "      <th>1970</th>\n",
       "      <td>2.363590</td>\n",
       "      <td>27.200066</td>\n",
       "      <td>23.540119</td>\n",
       "      <td>4.868667</td>\n",
       "      <td>16.490406</td>\n",
       "      <td>9.821379</td>\n",
       "      <td>39.255893</td>\n",
       "      <td>0.0</td>\n",
       "    </tr>\n",
       "    <tr>\n",
       "      <th>1971</th>\n",
       "      <td>2.348118</td>\n",
       "      <td>26.547165</td>\n",
       "      <td>22.899968</td>\n",
       "      <td>4.923595</td>\n",
       "      <td>16.481499</td>\n",
       "      <td>9.915914</td>\n",
       "      <td>39.783708</td>\n",
       "      <td>0.0</td>\n",
       "    </tr>\n",
       "    <tr>\n",
       "      <th>1972</th>\n",
       "      <td>2.468580</td>\n",
       "      <td>26.508286</td>\n",
       "      <td>22.928810</td>\n",
       "      <td>4.979781</td>\n",
       "      <td>16.473436</td>\n",
       "      <td>10.067511</td>\n",
       "      <td>39.502406</td>\n",
       "      <td>0.0</td>\n",
       "    </tr>\n",
       "    <tr>\n",
       "      <th>1973</th>\n",
       "      <td>3.244053</td>\n",
       "      <td>26.453967</td>\n",
       "      <td>22.852231</td>\n",
       "      <td>4.968781</td>\n",
       "      <td>16.370765</td>\n",
       "      <td>9.973210</td>\n",
       "      <td>38.989225</td>\n",
       "      <td>0.0</td>\n",
       "    </tr>\n",
       "    <tr>\n",
       "      <th>1974</th>\n",
       "      <td>2.907139</td>\n",
       "      <td>26.218354</td>\n",
       "      <td>22.057238</td>\n",
       "      <td>4.854255</td>\n",
       "      <td>16.417547</td>\n",
       "      <td>10.169189</td>\n",
       "      <td>39.433516</td>\n",
       "      <td>0.0</td>\n",
       "    </tr>\n",
       "  </tbody>\n",
       "</table>\n",
       "</div>"
      ],
      "text/plain": [
       "      Agriculture_hunting_forestry_fishing  Mining_Manufacturing  \\\n",
       "Year                                                               \n",
       "1970                              2.363590             27.200066   \n",
       "1971                              2.348118             26.547165   \n",
       "1972                              2.468580             26.508286   \n",
       "1973                              3.244053             26.453967   \n",
       "1974                              2.907139             26.218354   \n",
       "\n",
       "      Manufacturing  Construction  Wholesale_retail_restaurants_hotels  \\\n",
       "Year                                                                     \n",
       "1970      23.540119      4.868667                            16.490406   \n",
       "1971      22.899968      4.923595                            16.481499   \n",
       "1972      22.928810      4.979781                            16.473436   \n",
       "1973      22.852231      4.968781                            16.370765   \n",
       "1974      22.057238      4.854255                            16.417547   \n",
       "\n",
       "      Transport_storage_communication      Other  Total  \n",
       "Year                                                     \n",
       "1970                         9.821379  39.255893    0.0  \n",
       "1971                         9.915914  39.783708    0.0  \n",
       "1972                        10.067511  39.502406    0.0  \n",
       "1973                         9.973210  38.989225    0.0  \n",
       "1974                        10.169189  39.433516    0.0  "
      ]
     },
     "execution_count": 12,
     "metadata": {},
     "output_type": "execute_result"
    }
   ],
   "source": [
    "for x in FileNames:\n",
    "    df = pd.read_csv(path + \"/\" + x) \n",
    "    df.columns =[\"Year\",\"Agriculture_hunting_forestry_fishing\", \"Mining_Manufacturing\", \"Manufacturing\",\\\n",
    "                             \"Construction\",\"Wholesale_retail_restaurants_hotels\",\"Transport_storage_communication\",\\\n",
    "                             \"Other\",\"Total\"]\n",
    "    df = df.dropna(how='any')\n",
    "    df = df.set_index('Year')\n",
    "    df.head()\n",
    "    df[\"Total\"] = \"0\"\n",
    "    list_col = list(df.columns)\n",
    "    for y in list_col:\n",
    "        df.loc[df[y] == \"...\"] = \"0\"    \n",
    "    for y in list_col:\n",
    "        df[y] = df[y].astype(float)        \n",
    "    y = y.replace(\".csv\", \"\")\n",
    "    df.to_sql(name = y, con = engine, if_exists = 'replace', index=False)\n",
    "\n",
    "df.head()"
   ]
  },
  {
   "cell_type": "code",
   "execution_count": null,
   "metadata": {},
   "outputs": [],
   "source": []
  },
  {
   "cell_type": "code",
   "execution_count": null,
   "metadata": {},
   "outputs": [],
   "source": []
  },
  {
   "cell_type": "code",
   "execution_count": null,
   "metadata": {},
   "outputs": [],
   "source": [
    "df = pd.read_csv(path + \"/\" + \"GDP_Russia.csv\")\n",
    "df = df.dropna(how='any')\n",
    "df = df.set_index('Year')\n",
    "df.head()"
   ]
  },
  {
   "cell_type": "code",
   "execution_count": null,
   "metadata": {},
   "outputs": [],
   "source": [
    "df.dtypes"
   ]
  },
  {
   "cell_type": "code",
   "execution_count": null,
   "metadata": {},
   "outputs": [],
   "source": [
    "df.iloc[0,1]"
   ]
  },
  {
   "cell_type": "code",
   "execution_count": null,
   "metadata": {},
   "outputs": [],
   "source": [
    "df.loc[df[\"Total Value Added\"] == \"...\"] = \"0\"\n",
    "df"
   ]
  },
  {
   "cell_type": "code",
   "execution_count": null,
   "metadata": {},
   "outputs": [],
   "source": []
  }
 ],
 "metadata": {
  "kernelspec": {
   "display_name": "Python 3",
   "language": "python",
   "name": "python3"
  },
  "language_info": {
   "codemirror_mode": {
    "name": "ipython",
    "version": 3
   },
   "file_extension": ".py",
   "mimetype": "text/x-python",
   "name": "python",
   "nbconvert_exporter": "python",
   "pygments_lexer": "ipython3",
   "version": "3.7.3"
  }
 },
 "nbformat": 4,
 "nbformat_minor": 2
}
